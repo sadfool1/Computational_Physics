{
 "cells": [
  {
   "cell_type": "markdown",
   "metadata": {},
   "source": [
    "# Sampling Random Numbers from Different Distributions\n",
    "\n",
    "Using the Mersenne Twister, we can sample very many random numbers $x_n$ from $U(0, 1)$, the uniform distribution between 0 and 1.\n",
    "\n",
    "Because we are using <tt>numpy</tt>, we also have access to functions that generate random numbers from other distributions. Since we have to at least know the basic principles behind the built-in functions, let us learn how to obtain other random numbers, starting from those sampled from $U(0, 1)$. This understanding will be helpful if we need to generate random numbers from distributions that are not supported by <tt>numpy</tt>."
   ]
  },
  {
   "cell_type": "markdown",
   "metadata": {},
   "source": [
    "## The Uniform Distribution $U(0, 1)$\n",
    "\n",
    "First, let us learn how to sample random numbers uniformly distributed between 0 and 1 in Python. This can be done as follows:"
   ]
  },
  {
   "cell_type": "code",
   "execution_count": 2,
   "metadata": {},
   "outputs": [],
   "source": [
    "import numpy as np\n",
    "x = np.random.rand(100)"
   ]
  },
  {
   "cell_type": "markdown",
   "metadata": {},
   "source": [
    "To check that these 100 random numbers are indeed uniformly distributed between 0 and 1, let us plot a histogram."
   ]
  },
  {
   "cell_type": "code",
   "execution_count": 3,
   "metadata": {},
   "outputs": [
    {
     "data": {
      "text/plain": [
       "<Figure size 640x480 with 1 Axes>"
      ]
     },
     "metadata": {},
     "output_type": "display_data"
    }
   ],
   "source": [
    "import matplotlib.pyplot as plt\n",
    "plt.hist(x,20)\n",
    "plt.show()"
   ]
  },
  {
   "cell_type": "markdown",
   "metadata": {},
   "source": [
    "The result is not so good, because there are too few random numbers and too many bins. We can try again with fewer bins."
   ]
  },
  {
   "cell_type": "code",
   "execution_count": 4,
   "metadata": {},
   "outputs": [
    {
     "data": {
      "image/png": "[encoded data removed]",
      "text/plain": [
       "<Figure size 432x288 with 1 Axes>"
      ]
     },
     "metadata": {
      "needs_background": "light"
     },
     "output_type": "display_data"
    }
   ],
   "source": [
    "plt.hist(x,10)\n",
    "plt.show()"
   ]
  },
  {
   "cell_type": "markdown",
   "metadata": {},
   "source": [
    "This looks better, but the 100 random numbers still do not look like they are uniformly distributed.\n",
    "\n",
    "Let us try 10,000 random numbers, still with 10 bins."
   ]
  },
  {
   "cell_type": "code",
   "execution_count": 5,
   "metadata": {},
   "outputs": [
    {
     "data": {
      "image/png": "[encoded data removed]",
      "text/plain": [
       "<Figure size 432x288 with 1 Axes>"
      ]
     },
     "metadata": {
      "needs_background": "light"
     },
     "output_type": "display_data"
    }
   ],
   "source": [
    "x = np.random.rand(10000)\n",
    "plt.hist(x,10,density=True)\n",
    "plt.show()"
   ]
  },
  {
   "cell_type": "markdown",
   "metadata": {},
   "source": [
    "In this plot, we also invoked the <tt>density</tt> parameter in the <tt>hist()</tt> function so that we are plotting the <em>probability density function (pdf)</em> of $U(0, 1)$.\n",
    "\n",
    "This looks a lot better for 10 bins, but what about for 20 bins?"
   ]
  },
  {
   "cell_type": "code",
   "execution_count": 6,
   "metadata": {},
   "outputs": [
    {
     "data": {
      "image/png": "[encoded data removed]",
      "text/plain": [
       "<Figure size 432x288 with 1 Axes>"
      ]
     },
     "metadata": {
      "needs_background": "light"
     },
     "output_type": "display_data"
    }
   ],
   "source": [
    "plt.hist(x,20,density=True)\n",
    "plt.show()"
   ]
  },
  {
   "cell_type": "markdown",
   "metadata": {},
   "source": [
    "Naturally, if we use more bins, there will be fewer random numbers in each bin, and thus there will be more statistical fluctuations in the pdf.\n",
    "\n",
    "Ultimately, if we want to plot a smooth pdf, we can go to $10^6$ random numbers."
   ]
  },
  {
   "cell_type": "code",
   "execution_count": 7,
   "metadata": {},
   "outputs": [
    {
     "data": {
      "image/png": "[encoded data removed]",
      "text/plain": [
       "<Figure size 432x288 with 1 Axes>"
      ]
     },
     "metadata": {
      "needs_background": "light"
     },
     "output_type": "display_data"
    }
   ],
   "source": [
    "x = np.random.rand(1000000)\n",
    "plt.hist(x,20,density=True)\n",
    "plt.show()"
   ]
  },
  {
   "cell_type": "markdown",
   "metadata": {},
   "source": [
    "## The Uniform Distribution $U(a, b)$\n",
    "\n",
    "While $U(0,1)$ is useful, sometimes we might want to generate random numbers between $a \\neq 0$ and $b \\neq 1$. For example, we might want $a = -1$ and $b = 1$.\n",
    "\n",
    "We can easily transform a random number $x$ drawn from $U(0,1)$ to a random number $y$ drawn from $U(a,b)$ by $y = a + (b - a)x$.\n",
    "\n",
    "Checking the histogram for $y$,"
   ]
  },
  {
   "cell_type": "code",
   "execution_count": 8,
   "metadata": {},
   "outputs": [
    {
     "data": {
      "image/png": "[encoded data removed]",
      "text/plain": [
       "<Figure size 432x288 with 1 Axes>"
      ]
     },
     "metadata": {
      "needs_background": "light"
     },
     "output_type": "display_data"
    }
   ],
   "source": [
    "a = 1\n",
    "b = 5\n",
    "y = a + (b-a)*x\n",
    "plt.hist(y,20,density=True)\n",
    "plt.show()"
   ]
  },
  {
   "cell_type": "markdown",
   "metadata": {},
   "source": [
    "we see indeed that the histogram is uniform, and agrees with the pdf\n",
    "\\begin{equation}\n",
    "p(y) = \\begin{cases}\n",
    "\\frac{1}{b - a}, & a \\leq x \\leq b; \\\\\n",
    "0, & \\text{otherwise} \\end{cases}\n",
    "\\end{equation}\n",
    "of $U(a,b)$."
   ]
  },
  {
   "cell_type": "markdown",
   "metadata": {},
   "source": [
    "You can also generate $U(a,b)$ random numbers using the <tt>numpy</tt> built-in function <tt>uniform(a,b)</tt>."
   ]
  },
  {
   "cell_type": "markdown",
   "metadata": {},
   "source": [
    "Before we go on to discuss how to generate other random numbers, let us learn how to plot the <em>cumulative distribution function (cdf)</em> of $U(0,1)$.\n",
    "\n",
    "For any random variable $x$, the cdf $F(x)$ is the probability for us to sample random numbers that are less than $x$ from the pdf. For $U(0,1)$, we know therefore that for $x < 0$, $F(x) = 0$, and for $x > 1$, $F(x) = 1$.\n",
    "\n",
    "For $0 \\leq x \\leq 1$, the probability of sampling random numbers smaller than $x$ is simply $F(x) = \\int_0^x p(x')\\, dx' = \\int_0^x dx' = x$.\n",
    "\n",
    "To plot $F(x)$, we can first create a plotting array <tt>xx</tt> between -1 and 2, and then check how many of our random numbers $x$ are less than <tt>xx</tt>."
   ]
  },
  {
   "cell_type": "code",
   "execution_count": 5,
   "metadata": {},
   "outputs": [],
   "source": [
    "xx = np.linspace(-1,2,31)\n",
    "F = np.zeros(31)\n",
    "for n in range(31):\n",
    "    F[n] = sum(x < xx[n])/1000000\n"
   ]
  },
  {
   "cell_type": "markdown",
   "metadata": {},
   "source": [
    "This took a long time to run, but its plot"
   ]
  },
  {
   "cell_type": "code",
   "execution_count": 6,
   "metadata": {},
   "outputs": [
    {
     "data": {
      "image/png": "[encoded data removed]",
      "text/plain": [
       "<Figure size 432x288 with 1 Axes>"
      ]
     },
     "metadata": {
      "needs_background": "light"
     },
     "output_type": "display_data"
    }
   ],
   "source": [
    "plt.plot(xx,F)\n",
    "plt.show()"
   ]
  },
  {
   "cell_type": "markdown",
   "metadata": {},
   "source": [
    "agrees perfectly with what we expect theoretically. You might also notice that while the pdf has visible statistical fluctuations, the cdf is almost perfect!"
   ]
  },
  {
   "cell_type": "markdown",
   "metadata": {},
   "source": [
    "More importantly, you noted how long the computation took when we asked for merely 31 values of $F(x)$. This is because we have $10^6$ random values of $x$. If we ask for more values of $F(x)$, this method to compute $F(x)$ would take even more time.\n",
    "\n",
    "Fortunately, there is a simple way to calculate $F(x)$ quickly."
   ]
  },
  {
   "cell_type": "code",
   "execution_count": 8,
   "metadata": {},
   "outputs": [
    {
     "data": {
      "image/png": "[encoded data removed]",
      "text/plain": [
       "<matplotlib.figure.Figure at 0x1177a35c0>"
      ]
     },
     "metadata": {},
     "output_type": "display_data"
    }
   ],
   "source": [
    "FF = np.arange(len(x))/len(x)\n",
    "rr = np.sort(x)\n",
    "plt.plot(rr, FF)\n",
    "plt.show()"
   ]
  },
  {
   "cell_type": "markdown",
   "metadata": {},
   "source": [
    "In contrast to the <tt>for</tt> loop to do comparisons, this sorting approach to compute $F(x)$ is very fast, because of the many efficient sorting algorithms available.\n",
    "\n",
    "In case you are not impressed, remember that the plot above contains $10^6$ values of $F(x)$!"
   ]
  },
  {
   "cell_type": "markdown",
   "metadata": {},
   "source": [
    "## The Normal Distribution\n",
    "\n",
    "In many physics problems (for example, the Maxwellian distribution of velocities), we also encounter the normal distribution $N(\\mu, \\sigma^2)$, whose pdf\n",
    "\\begin{equation}\n",
    "p(x) = \\frac{1}{\\sqrt{2\\pi\\sigma^2}} \\exp\\left[-\\frac{(x - \\mu)^2}{2\\sigma^2}\\right]\n",
    "\\end{equation}\n",
    "is defined in terms of two parameters, the mean $\\mu$, and the variance $\\sigma^2$.\n",
    "\n",
    "In <tt>numpy</tt>, we can generate normally distributed random numbers using the <tt>randn()</tt> function (for the standard normal distribution $N(0, 1)$), or the <tt>normal()</tt> function (for other normal distributions).\n",
    "\n",
    "Nevertheless, we want to understand how to generate normally-distributed random numbers $x$, starting from uniformly-distributed random numbers $u$. To do this, let us set\n",
    "\\begin{equation}\n",
    "p(x)\\, dx = p(u)\\, du.\n",
    "\\end{equation}\n",
    "Here $p(x)\\, dx$ is the probability of finding a normally-distributed random number between $x$ and $x + dx$, while $p(u)\\, du$ is the probability of finding a uniformly-distributed random number between $u$ and $u + du$. We want this equality of probability to be true for all $x$, which means that it must be possible to write $x$ in terms of $u$, or $u$ in terms of $x$.\n",
    "\n",
    "It turns out that it is easier to find this functional relationship if we consider the 'square' of the above equation. To avoid confusing ourselves, let us write\n",
    "\\begin{equation}\n",
    "p(x)\\,dx\\, p(y)\\, dy = p(u)\\, du\\, p(v)\\, dv,\n",
    "\\end{equation}\n",
    "where $x$ and $y$ are normally-distributed random variables, while $u$ and $v$ are uniformly-distributed random variables.\n",
    "\n",
    "For the sake of simplicity, let us consider mapping $U(0,1)$ random variables to $N(0,1)$ random variables. In this case, $p(u) = p(v) = 1$, and the RHS is just $du\\, dv$. On the LHS, we combine\n",
    "\\begin{equation}\n",
    "p(x)p(y)\\,dx\\,dy = \\frac{1}{\\sqrt{2\\pi}}\\exp\\left(-\\frac{x^2}{2}\\right) \n",
    "\\frac{1}{\\sqrt{2\\pi}}\\exp\\left(-\\frac{y^2}{2}\\right)\\, dx\\,dy = \\frac{1}{2\\pi}\\exp\\left(-\\frac{x^2 + y^2}{2}\\right)\\,dx\\,dy,\n",
    "\\end{equation}\n",
    "which we can write in polar coordinates $(r, \\theta)$ as\n",
    "\\begin{equation}\n",
    "\\frac{1}{2\\pi}\\exp\\left(-\\frac{x^2 + y^2}{2}\\right)\\,dx\\,dy = \n",
    "\\frac{1}{2\\pi}\\exp\\left(-\\frac{r^2}{2}\\right)\\, r\\, dr\\,d\\theta.\n",
    "\\end{equation}\n",
    "\n",
    "Now, the term in $r$ can be written as a total derivative, \n",
    "\\begin{equation}\n",
    "\\exp\\left(-\\frac{r^2}{2}\\right)\\, r\\, dr = d\\left[-\\exp\\left(-\\frac{r^2}{2}\\right)\\right].\n",
    "\\end{equation}\n",
    "With this, we can write the equality of probability condition as\n",
    "\\begin{equation}\n",
    "d\\left[-\\exp\\left(-\\frac{r^2}{2}\\right)\\right] d\\left(\\frac{\\theta}{2\\pi}\\right) = du\\, dv,\n",
    "\\end{equation}\n",
    "which then allows us to identify\n",
    "\\begin{equation}\n",
    "\\frac{\\theta}{2\\pi} = v,\n",
    "\\end{equation}\n",
    "and\n",
    "\\begin{equation}\n",
    "-\\exp\\left(-\\frac{r^2}{2}\\right) = u\n",
    "\\end{equation}\n",
    "as the uniformly-distributed random variables.\n",
    "\n",
    "Rewriting the functional relationships between $(r, \\theta)$ and $(u, v)$ as\n",
    "\\begin{align}\n",
    "\\theta &= 2\\pi v, \\\\\n",
    "r &= \\sqrt{-2\\ln(u)},\n",
    "\\end{align}\n",
    "we then write the normally-distributed random variables $(x, y)$ as\n",
    "\\begin{align}\n",
    "x &= r\\cos\\theta = \\sqrt{-2\\ln(u)}\\cos(2\\pi v), \\\\\n",
    "y &= r\\sin\\theta = \\sqrt{-2\\ln(u)}\\sin(2\\pi v).\n",
    "\\end{align}\n",
    "This tells us that to get $x$, we need two uniformly-distributed random variables $u$ and $v$. Fortunately, $y$ is also a perfectly good $N(0,1)$ random variable, so we can use both of them in simulations, before creating another pair $(x, y)$ of standard normal random variables."
   ]
  },
  {
   "cell_type": "markdown",
   "metadata": {},
   "source": [
    "Suppose we are given a random variable $z$ from the standard normal distribution $N(0,1)$, we can easily generate a random $x$ from $N(\\mu, \\sigma^2)$ simply by writing $x = \\mu + \\sigma z$."
   ]
  },
  {
   "cell_type": "code",
   "execution_count": 15,
   "metadata": {
    "scrolled": true
   },
   "outputs": [
    {
     "data": {
      "image/png": "[encoded data removed]",
      "text/plain": [
       "<matplotlib.figure.Figure at 0x11e59d550>"
      ]
     },
     "metadata": {},
     "output_type": "display_data"
    }
   ],
   "source": [
    "u = np.random.rand(1000000)\n",
    "v = np.random.rand(1000000)\n",
    "x = np.sqrt(-2.0*np.log(u))*np.cos(2*np.pi*v)\n",
    "y = np.sqrt(-2.0*np.log(u))*np.sin(2*np.pi*v)\n",
    "xx = np.linspace(-4,4,100)\n",
    "ff = np.exp(-xx**2/2.0)/np.sqrt(2*np.pi)\n",
    "plt.hist(x,50,density=True)\n",
    "plt.plot(xx,ff,'r')\n",
    "plt.show()"
   ]
  },
  {
   "cell_type": "code",
   "execution_count": 17,
   "metadata": {},
   "outputs": [
    {
     "data": {
      "image/png": "[encoded data removed]",
      "text/plain": [
       "<matplotlib.figure.Figure at 0x1177fcf60>"
      ]
     },
     "metadata": {},
     "output_type": "display_data"
    }
   ],
   "source": [
    "mu = 1.0\n",
    "sigma2 = 2.0\n",
    "sigma = np.sqrt(sigma2)\n",
    "w = mu + sigma*x\n",
    "ww = np.linspace(-4,6,100)\n",
    "ff = np.exp(-(ww - mu)**2/(2.0*sigma2))/np.sqrt(2.0*np.pi*sigma2)\n",
    "plt.hist(w,50,density=True)\n",
    "plt.plot(ww,ff,'r')\n",
    "plt.show()"
   ]
  },
  {
   "cell_type": "markdown",
   "metadata": {},
   "source": [
    "Python exercise to get (x, y) from (u, v)\n",
    "\n",
    "Python exercise to get $N(\\mu, \\sigma^2)$ from N(0, 1)\n"
   ]
  },
  {
   "cell_type": "markdown",
   "metadata": {},
   "source": [
    "Python exercise to plot pdf of N(0,1) and $N(\\mu, \\sigma^2)$\n",
    "\n",
    "Python exercise to plot cdf of N(0,1) and $N(\\mu, \\sigma^2)$"
   ]
  },
  {
   "cell_type": "markdown",
   "metadata": {},
   "source": [
    "## Exponential Distribution\n",
    "\n",
    "pdf + cdf\n",
    "describes the lifetime of a radioactive nucleus\n",
    "\n",
    "how to get EXP-distributed random variable from uniformly-distributed random variable\n",
    "\n",
    "normal distribution cdf has no closed form\n",
    "\n",
    "EXP distribution cdf closed form, check that the transformation is dictated by the cdf\n",
    "\n",
    "inverse cdf transform\n",
    "\n",
    "can do so numerically, if no analytical solutions\n"
   ]
  },
  {
   "cell_type": "code",
   "execution_count": 18,
   "metadata": {},
   "outputs": [
    {
     "data": {
      "image/png": "[encoded data removed]",
      "text/plain": [
       "<matplotlib.figure.Figure at 0x1096a6128>"
      ]
     },
     "metadata": {},
     "output_type": "display_data"
    }
   ],
   "source": [
    "u = np.random.rand(1000000)\n",
    "x = -np.log(1.0 - u)\n",
    "xx = np.linspace(0,10,100)\n",
    "ff = np.exp(-xx)\n",
    "plt.hist(x,50,density=True)\n",
    "plt.plot(xx,ff,'r')\n",
    "plt.show()"
   ]
  },
  {
   "cell_type": "markdown",
   "metadata": {},
   "source": [
    "## Central Limit Theorem\n",
    "\n",
    "take average of large samples of uniformly distributed random variables\n",
    "check that limit is cdf of normal distribution\n",
    "\n",
    "check average of normally distributed random variables\n",
    "\n",
    "student-t distributions\n",
    "\n",
    "try random variables from different $U(a, b)$\n",
    "\n",
    "try random variables from different $N(\\mu, \\sigma^2)$\n"
   ]
  },
  {
   "cell_type": "code",
   "execution_count": 22,
   "metadata": {
    "scrolled": true
   },
   "outputs": [
    {
     "data": {
      "image/png": "[encoded data removed]",
      "text/plain": [
       "<matplotlib.figure.Figure at 0x11a791cf8>"
      ]
     },
     "metadata": {},
     "output_type": "display_data"
    }
   ],
   "source": [
    "u = np.random.rand(10,100000)\n",
    "v = np.sum(u,axis=0)\n",
    "mu = np.mean(v)\n",
    "sigma2 = np.var(v)\n",
    "sigma = np.sqrt(sigma2)\n",
    "vv = np.linspace(0,10,100)\n",
    "ff = np.exp(-(vv - mu)**2/(2.0*sigma2))/np.sqrt(2.0*np.pi*sigma2)\n",
    "plt.hist(v,50,density=True)\n",
    "plt.plot(vv,ff,'r')\n",
    "plt.show()"
   ]
  },
  {
   "cell_type": "code",
   "execution_count": 25,
   "metadata": {},
   "outputs": [
    {
     "data": {
      "image/png": "[encoded data removed]",
      "text/plain": [
       "<matplotlib.figure.Figure at 0x11ab28eb8>"
      ]
     },
     "metadata": {},
     "output_type": "display_data"
    }
   ],
   "source": [
    "u1 = np.random.uniform(0,1,1000000)\n",
    "u2 = np.random.uniform(0,2,1000000)\n",
    "u3 = np.random.uniform(0,3,1000000)\n",
    "u4 = np.random.uniform(0,4,1000000)\n",
    "u5 = np.random.uniform(0,5,1000000)\n",
    "u6 = np.random.uniform(0,6,1000000)\n",
    "u7 = np.random.uniform(0,7,1000000)\n",
    "u8 = np.random.uniform(0,8,1000000)\n",
    "u9 = np.random.uniform(0,9,1000000)\n",
    "u10 = np.random.uniform(0,10,1000000)\n",
    "v = u1 + u2 + u3 + u4 + u5 + u6 + u7 + u8 + u9 + u10\n",
    "mu = np.mean(v)\n",
    "sigma2 = np.var(v)\n",
    "vv = np.linspace(0,55,200)\n",
    "ff = np.exp(-(vv - mu)**2/(2.0*sigma2))/np.sqrt(2.0*np.pi*sigma2)\n",
    "plt.hist(v,50,density=True)\n",
    "plt.plot(vv,ff,'r')\n",
    "plt.show()"
   ]
  },
  {
   "cell_type": "markdown",
   "metadata": {},
   "source": [
    "## Stochastic Process on top of Another Stochastic Process"
   ]
  },
  {
   "cell_type": "markdown",
   "metadata": {},
   "source": [
    "## State Space Reducing Processes"
   ]
  },
  {
   "cell_type": "markdown",
   "metadata": {},
   "source": [
    "## A More General Central Limit Theorem"
   ]
  },
  {
   "cell_type": "code",
   "execution_count": null,
   "metadata": {
    "collapsed": true
   },
   "outputs": [],
   "source": []
  }
 ],
 "metadata": {
  "kernelspec": {
   "display_name": "Python 3",
   "language": "python",
   "name": "python3"
  },
  "language_info": {
   "codemirror_mode": {
    "name": "ipython",
    "version": 3
   },
   "file_extension": ".py",
   "mimetype": "text/x-python",
   "name": "python",
   "nbconvert_exporter": "python",
   "pygments_lexer": "ipython3",
   "version": "3.7.4"
  }
 },
 "nbformat": 4,
 "nbformat_minor": 2
}
