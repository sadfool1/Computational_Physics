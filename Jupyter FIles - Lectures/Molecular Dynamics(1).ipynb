{
 "cells": [
  {
   "cell_type": "markdown",
   "metadata": {},
   "source": [
    "# Molecular Dynamics\n",
    "\n",
    "For a single particle moving in an external potential, we write the equation of motion as\n",
    "\\begin{align}\n",
    "\\frac{d\\vec{r}}{dt} &= \\vec{v}(t), \\\\\n",
    "m\\frac{\\vec{v}}{dt} &= -\\nabla U(\\vec{r}),\n",
    "\\end{align}\n",
    "where $\\vec{a}(t) = -\\dfrac{\\nabla U(\\vec{r})}{m}$ is the acceleration of the particle.\n",
    "\n",
    "We can then apply the velocity Verlet algorithm to solve this problem numerically."
   ]
  },
  {
   "cell_type": "markdown",
   "metadata": {},
   "source": [
    "In many simulations, the particle is not moving in the static potential of an external agent, but is interacting with many particles in the same system volume.\n",
    "\n",
    "If there are $N$ particles in the system, then the equations of motion become\n",
    "\\begin{align}\n",
    "\\frac{d\\vec{r}_i}{dt} &= \\vec{v}_i(t), \\\\\n",
    "m_i \\frac{d\\vec{v}_i}{dt} &= -\\sum_{j\\neq i} u_{ij}(\\vec{r}_i, \\vec{r}_j).\n",
    "\\end{align}\n",
    "\n",
    "In the above equation, we assume that the forces acting on particle $i$ are derived from pair potentials $u_{ij}(\\vec{r}_i, \\vec{r}_j)$.\n",
    "\n",
    "This is only an assumption.\n",
    "\n",
    "In principle, it is possible (and indeed suggested by <em>molecular mechanics</em> that we will talk about later in this course) that the force acting on particle $i$ also receive contributions from $n$-body interactions $u_{i_1 i_2 \\cdots i_n}(\\vec{r}_{i_1}, \\vec{r}_{i_2}, \\dots, \\vec{r}_{i_n})$, the simplest beyond pair potentials would be three-body potentials $u_{ijk}(\\vec{r}_i, \\vec{r}_j, \\vec{r}_k)$."
   ]
  },
  {
   "cell_type": "markdown",
   "metadata": {},
   "source": [
    "In molecular dynamics, the nature and functional forms of the interaction potentials are almost never derived from first principles. Instead, they are chosen based on intuition, tested in simulations, and then retained or discarded. Interaction potentials obtained this way are called <em>semi-empirical potentials</em>.\n",
    "\n",
    "In this part of the course, we will start simple, and then progressively go to more and more sophisticated molecular dynamics problems."
   ]
  },
  {
   "cell_type": "markdown",
   "metadata": {},
   "source": [
    "## Hard Disks and Hard Spheres\n",
    "\n",
    "The simplest interaction potential we can use would be $\\dots$ no interaction potential. That is to say, particles do not feel the presence of each other, until they collide.\n",
    "\n",
    "If we assume that the particles are identical with mass $m_i = m_j = m$,  have a finite radius $b$, and do not deform in the collisions, the particles can be treated as hard disks (2D) or hard spheres (3D).\n",
    "\n",
    "Between collisions, all particles move along straight paths.\n",
    "\n",
    "<img src=\"http://www1.spms.ntu.edu.sg/~cheongsa/collision.png\" width=200>\n",
    "\n",
    "When particles $i$ and $j$ collide, as shown above, we assume that the collision is perfectly elastic. This means that\n",
    "\\begin{align}\n",
    "\\vec{v}_{i\\perp,\\text{after}} &= \\vec{v}_{i\\perp,\\text{before}}, \\\\\n",
    "\\vec{v}_{j\\perp,\\text{after}} &= \\vec{v}_{j\\perp,\\text{before}},\n",
    "\\end{align}\n",
    "along the direction perpendicular to the line joining the two centres, and exchange velocity components\n",
    "\\begin{align}\n",
    "\\vec{v}_{i\\parallel,\\text{after}} &= \\vec{v}_{j\\parallel,\\text{before}}, \\\\\n",
    "\\vec{v}_{j\\parallel,\\text{after}} &= \\vec{v}_{i\\parallel,\\text{before}}\n",
    "\\end{align}\n",
    "along the line joining the two centres."
   ]
  },
  {
   "cell_type": "markdown",
   "metadata": {},
   "source": [
    "## Initialization\n",
    "\n",
    "To start such a simulation, we choose random initial positions for the $N$ particles.\n",
    "\n",
    "If any pair of particles overlap, that is, we find $i$ and $j$ such that\n",
    "\\begin{equation}\n",
    "|\\vec{r}_i - \\vec{r}_j| < 2b,\n",
    "\\end{equation}\n",
    "we move them apart along the line joining the two centres until they are just touching.\n",
    "\n",
    "We repeat this process until there are no more overlapping particles.\n",
    "\n",
    "[Python code below]"
   ]
  },
  {
   "cell_type": "code",
   "execution_count": 5,
   "metadata": {},
   "outputs": [
    {
     "name": "stdout",
     "output_type": "stream",
     "text": [
      "2 4\n",
      "3 8\n",
      "5 8\n"
     ]
    }
   ],
   "source": [
    "import numpy as np\n",
    "# N = 10 particles inside a unit box\n",
    "N = 10\n",
    "# b = 0.1\n",
    "b = 0.1\n",
    "# random initial positions for particles\n",
    "x = np.random.random(N)\n",
    "y = np.random.random(N)\n",
    "# check for overlap\n",
    "for i in range(N-1):\n",
    "    for j in range(i+1,N):\n",
    "        if (x[i]-x[j])**2 + (y[i]-y[j])**2 < 4*b**2:\n",
    "            print(i,j)"
   ]
  },
  {
   "cell_type": "markdown",
   "metadata": {},
   "source": [
    "<img src=\"http://www1.spms.ntu.edu.sg/~cheongsa/overlap.png\" width=400>\n",
    "\n",
    "To do this, let us observe that if particle $i$ (position $\\vec{r}_i$) and particle $j$ (position $\\vec{r}_j$) overlap, the distance between the centres of the two particles is\n",
    "\\begin{equation}\n",
    "\\left|\\vec{r}_i - \\vec{r}_j\\right| < 2b,\n",
    "\\end{equation}\n",
    "or equivalently,\n",
    "\\begin{equation}\n",
    "\\left|\\tfrac{1}{2}\\left(\\vec{r}_i - \\vec{r}_j\\right)\\right| < b.\n",
    "\\end{equation}\n",
    "\n",
    "To move particle $i$ and particle $j$ back along the line joining the two centres, so that they are just touching, we need to add $b \\hat{n}_{ij}$ to $\\tfrac{1}{2}(\\vec{r}_i + \\vec{r}_j)$, and $-b \\hat{n}_{ij}$ to $\\tfrac{1}{2}(\\vec{r}_i + \\vec{r}_j)$, i.e.\n",
    "\\begin{align}\n",
    "\\vec{r}'_i &= \\tfrac{1}{2}(\\vec{r}_i + \\vec{r}_j) + b\\, \\hat{n}_{ij} = \\tfrac{1}{2}(\\vec{r}_i + \\vec{r}_j) + b\\, \\frac{\\vec{r}_i - \\vec{r}_j}{\\left|\\vec{r}_i - \\vec{r}_j\\right|}, \\\\\n",
    "\\vec{r}'_j &= \\tfrac{1}{2}(\\vec{r}_i + \\vec{r}_j) - b\\, \\hat{n}_{ij} = \\tfrac{1}{2}(\\vec{r}_i + \\vec{r}_j) - b\\, \\frac{\\vec{r}_i - \\vec{r}_j}{\\left|\\vec{r}_i - \\vec{r}_j\\right|}.\n",
    "\\end{align}\n",
    "\n",
    "[Python code]"
   ]
  },
  {
   "cell_type": "code",
   "execution_count": 6,
   "metadata": {},
   "outputs": [],
   "source": [
    "# check for overlap\n",
    "for i in range(N-1):\n",
    "    for j in range(i+1,N):\n",
    "        if (x[i]-x[j])**2 + (y[i]-y[j])**2 < 4*b**2:\n",
    "            # move overlapping particles apart\n",
    "            # find unit vector along line joining two centres\n",
    "            xnij = x[i] - x[j]\n",
    "            ynij = y[i] - y[j]\n",
    "            normnij = np.sqrt(xnij**2 + ynij**2)\n",
    "            xnij = xnij/normnij\n",
    "            ynij = ynij/normnij\n",
    "            # find centre of overlap\n",
    "            xc = 0.5*(x[i] + x[j])\n",
    "            yc = 0.5*(y[i] + y[j])\n",
    "            # move i and j\n",
    "            x[i] = xc + b*xnij\n",
    "            y[i] = yc + b*ynij\n",
    "            x[j] = xc - b*xnij\n",
    "            y[j] = yc - b*ynij"
   ]
  },
  {
   "cell_type": "markdown",
   "metadata": {},
   "source": [
    "After we have moved the two overlapping particles, we should check that they are not overlapping anymore."
   ]
  },
  {
   "cell_type": "code",
   "execution_count": 7,
   "metadata": {},
   "outputs": [
    {
     "name": "stdout",
     "output_type": "stream",
     "text": [
      "2 4\n",
      "3 8\n"
     ]
    }
   ],
   "source": [
    "# check for overlap\n",
    "for i in range(N-1):\n",
    "    for j in range(i+1,N):\n",
    "        if (x[i]-x[j])**2 + (y[i]-y[j])**2 < 4*b**2:\n",
    "            print(i,j)"
   ]
  },
  {
   "cell_type": "markdown",
   "metadata": {},
   "source": [
    "We see that after moving the overlapping pairs, we created a new overlapping pair. To completely remove overlaps in the initial configuration, let us write a Python function to return the list of overlapping pairs, so that we can later write a while loop to handle it."
   ]
  },
  {
   "cell_type": "code",
   "execution_count": 8,
   "metadata": {},
   "outputs": [],
   "source": [
    "def check_overlap(x, y):\n",
    "    # first find the number of particles\n",
    "    N = len(x)\n",
    "    # next initialize an empty array for the overlapping pairs\n",
    "    l_overlap = []\n",
    "    # check for overlaps\n",
    "    for i in range(N-1):\n",
    "        for j in range(i+1,N):\n",
    "            if (x[i]-x[j])**2 + (y[i]-y[j])**2 < 4*b**2:\n",
    "                l_overlap.append([i,j])\n",
    "    # return l_overlap\n",
    "    return(l_overlap)"
   ]
  },
  {
   "cell_type": "markdown",
   "metadata": {},
   "source": [
    "Let us test this function."
   ]
  },
  {
   "cell_type": "code",
   "execution_count": 9,
   "metadata": {},
   "outputs": [
    {
     "data": {
      "text/plain": [
       "2"
      ]
     },
     "execution_count": 9,
     "metadata": {},
     "output_type": "execute_result"
    }
   ],
   "source": [
    "l_overlap = check_overlap(x,y)\n",
    "len(l_overlap)"
   ]
  },
  {
   "cell_type": "code",
   "execution_count": 10,
   "metadata": {},
   "outputs": [],
   "source": [
    "for p in l_overlap:\n",
    "    i = p[0]\n",
    "    j = p[1]\n",
    "    # move particles i and j\n",
    "    # find unit vector along line joining two centres\n",
    "    xnij = x[i] - x[j]\n",
    "    ynij = y[i] - y[j]\n",
    "    normnij = np.sqrt(xnij**2 + ynij**2)\n",
    "    xnij = xnij/normnij\n",
    "    ynij = ynij/normnij\n",
    "    # find centre of overlap\n",
    "    xc = 0.5*(x[i] + x[j])\n",
    "    yc = 0.5*(y[i] + y[j])\n",
    "    # move i and j\n",
    "    x[i] = xc + b*xnij\n",
    "    y[i] = yc + b*ynij\n",
    "    x[j] = xc - b*xnij\n",
    "    y[j] = yc - b*ynij"
   ]
  },
  {
   "cell_type": "code",
   "execution_count": 11,
   "metadata": {
    "scrolled": true
   },
   "outputs": [
    {
     "data": {
      "text/plain": [
       "[[2, 4], [5, 8]]"
      ]
     },
     "execution_count": 11,
     "metadata": {},
     "output_type": "execute_result"
    }
   ],
   "source": [
    "l_overlap = check_overlap(x,y)\n",
    "l_overlap"
   ]
  },
  {
   "cell_type": "code",
   "execution_count": 12,
   "metadata": {},
   "outputs": [],
   "source": [
    "def move_overlapping_particles(x, y, l_overlap):\n",
    "    f = 1.001\n",
    "    for p in l_overlap:\n",
    "        i = p[0]\n",
    "        j = p[1]\n",
    "        # move particles i and j\n",
    "        # find unit vector along line joining two centres\n",
    "        xnij = x[i] - x[j]\n",
    "        ynij = y[i] - y[j]\n",
    "        print(xnij**2 + ynij**2)\n",
    "        normnij = np.sqrt(xnij**2 + ynij**2)\n",
    "        xnij = xnij/normnij\n",
    "        ynij = ynij/normnij\n",
    "        # find centre of overlap\n",
    "        xc = 0.5*(x[i] + x[j])\n",
    "        yc = 0.5*(y[i] + y[j])\n",
    "        # move i and j\n",
    "        x[i] = xc + f*b*xnij\n",
    "        y[i] = yc + f*b*ynij\n",
    "        x[j] = xc - f*b*xnij\n",
    "        y[j] = yc - f*b*ynij\n",
    "        # print testing\n",
    "        print((x[i]-x[j])**2 + (y[i]-y[j])**2)"
   ]
  },
  {
   "cell_type": "code",
   "execution_count": 13,
   "metadata": {},
   "outputs": [
    {
     "name": "stdout",
     "output_type": "stream",
     "text": [
      "0.03999999999999998\n",
      "0.04008003999999996\n",
      "0.03896339331130189\n",
      "0.04008004\n"
     ]
    },
    {
     "data": {
      "text/plain": [
       "[[3, 8]]"
      ]
     },
     "execution_count": 13,
     "metadata": {},
     "output_type": "execute_result"
    }
   ],
   "source": [
    "move_overlapping_particles(x,y,l_overlap)\n",
    "l_overlap = check_overlap(x,y)\n",
    "l_overlap"
   ]
  },
  {
   "cell_type": "code",
   "execution_count": 14,
   "metadata": {},
   "outputs": [
    {
     "data": {
      "text/plain": [
       "(0.4138158098381205,\n",
       " 0.2145399342524923,\n",
       " 0.012737702384118976,\n",
       " 0.17196364623372584)"
      ]
     },
     "execution_count": 14,
     "metadata": {},
     "output_type": "execute_result"
    }
   ],
   "source": [
    "(x[0],y[0], x[1], y[1])"
   ]
  },
  {
   "cell_type": "code",
   "execution_count": 15,
   "metadata": {},
   "outputs": [
    {
     "data": {
      "text/plain": [
       "(0.4010781074540015, 0.04257628801876645)"
      ]
     },
     "execution_count": 15,
     "metadata": {},
     "output_type": "execute_result"
    }
   ],
   "source": [
    "xnij = x[0] - x[1]\n",
    "ynij = y[0] - y[1]\n",
    "(xnij, ynij)"
   ]
  },
  {
   "cell_type": "code",
   "execution_count": 16,
   "metadata": {},
   "outputs": [
    {
     "data": {
      "text/plain": [
       "0.40333161118407335"
      ]
     },
     "execution_count": 16,
     "metadata": {},
     "output_type": "execute_result"
    }
   ],
   "source": [
    "normnij = np.sqrt(xnij**2 + ynij**2)\n",
    "normnij"
   ]
  },
  {
   "cell_type": "code",
   "execution_count": 17,
   "metadata": {},
   "outputs": [
    {
     "data": {
      "text/plain": [
       "(0.994412776812965, 0.10556149540020902)"
      ]
     },
     "execution_count": 17,
     "metadata": {},
     "output_type": "execute_result"
    }
   ],
   "source": [
    "xnij = xnij/normnij\n",
    "ynij = ynij/normnij\n",
    "(xnij, ynij)"
   ]
  },
  {
   "cell_type": "code",
   "execution_count": 18,
   "metadata": {},
   "outputs": [
    {
     "data": {
      "text/plain": [
       "1.0000000000000002"
      ]
     },
     "execution_count": 18,
     "metadata": {},
     "output_type": "execute_result"
    }
   ],
   "source": [
    "xnij**2 + ynij**2"
   ]
  },
  {
   "cell_type": "code",
   "execution_count": 19,
   "metadata": {},
   "outputs": [
    {
     "name": "stdout",
     "output_type": "stream",
     "text": [
      "0.03980307320950215\n",
      "0.04008004000000001\n"
     ]
    },
    {
     "data": {
      "text/plain": [
       "[]"
      ]
     },
     "execution_count": 19,
     "metadata": {},
     "output_type": "execute_result"
    }
   ],
   "source": [
    "move_overlapping_particles(x,y,l_overlap)\n",
    "l_overlap = check_overlap(x,y)\n",
    "l_overlap"
   ]
  },
  {
   "cell_type": "code",
   "execution_count": 20,
   "metadata": {},
   "outputs": [
    {
     "data": {
      "text/plain": [
       "(0.4138158098381205,\n",
       " 0.2145399342524923,\n",
       " 0.012737702384118976,\n",
       " 0.17196364623372584)"
      ]
     },
     "execution_count": 20,
     "metadata": {},
     "output_type": "execute_result"
    }
   ],
   "source": [
    "(x[0],y[0], x[1], y[1])"
   ]
  },
  {
   "cell_type": "code",
   "execution_count": 21,
   "metadata": {},
   "outputs": [
    {
     "data": {
      "text/plain": [
       "(0.21327675611111974, 0.19325179024310907)"
      ]
     },
     "execution_count": 21,
     "metadata": {},
     "output_type": "execute_result"
    }
   ],
   "source": [
    "xc = 0.5*(x[0] + x[1])\n",
    "yc = 0.5*(y[0] + y[1])\n",
    "(xc, yc)"
   ]
  },
  {
   "cell_type": "code",
   "execution_count": 22,
   "metadata": {},
   "outputs": [
    {
     "data": {
      "text/plain": [
       "0.31271803379241625"
      ]
     },
     "execution_count": 22,
     "metadata": {},
     "output_type": "execute_result"
    }
   ],
   "source": [
    "xc + b*xnij"
   ]
  },
  {
   "cell_type": "code",
   "execution_count": 23,
   "metadata": {},
   "outputs": [
    {
     "data": {
      "text/plain": [
       "0.1"
      ]
     },
     "execution_count": 23,
     "metadata": {},
     "output_type": "execute_result"
    }
   ],
   "source": [
    "b"
   ]
  },
  {
   "cell_type": "markdown",
   "metadata": {},
   "source": [
    "It turns out that if we move the overlapping particles apart until they are just overlapping, the check_overlap() function gets confused by truncation errors. Therefore, it is safer to move the overlapping particles apart until they are no longer overlapping. We do not need this space to be much, and in fact multiplication by $f = 1.001$ was enough."
   ]
  },
  {
   "cell_type": "code",
   "execution_count": 24,
   "metadata": {},
   "outputs": [],
   "source": [
    "# set l_overlap to a non-empty list\n",
    "l_overlap = check_overlap(x, y)\n",
    "safety_counter = 0\n",
    "while (len(l_overlap) > 0):\n",
    "    move_overlapping_particles(x,y,l_overlap)\n",
    "    safety_counter += 1\n",
    "    if safety_counter > 1000:\n",
    "        break\n",
    "    l_overlap = check_overlap(x, y)"
   ]
  },
  {
   "cell_type": "markdown",
   "metadata": {},
   "source": [
    "Then we choose random velocities $\\vec{v}_i(0)$ for the $N$ particles, by sampling from a Maxwell velocity distribution. We will discuss this sampling problem in the Monte Carlo part of the course.\n",
    "\n",
    "For now just assign random velocity components between 0 and 1.\n"
   ]
  },
  {
   "cell_type": "code",
   "execution_count": 27,
   "metadata": {},
   "outputs": [
    {
     "ename": "IndexError",
     "evalue": "list assignment index out of range",
     "output_type": "error",
     "traceback": [
      "\u001b[0;31m---------------------------------------------------------------------------\u001b[0m",
      "\u001b[0;31mIndexError\u001b[0m                                Traceback (most recent call last)",
      "\u001b[0;32m<ipython-input-27-e0d84006b5c4>\u001b[0m in \u001b[0;36m<module>\u001b[0;34m\u001b[0m\n\u001b[1;32m      1\u001b[0m \u001b[0;32mfor\u001b[0m \u001b[0mi\u001b[0m \u001b[0;32min\u001b[0m \u001b[0mrange\u001b[0m\u001b[0;34m(\u001b[0m\u001b[0mN\u001b[0m\u001b[0;34m)\u001b[0m\u001b[0;34m:\u001b[0m\u001b[0;34m\u001b[0m\u001b[0;34m\u001b[0m\u001b[0m\n\u001b[1;32m      2\u001b[0m \u001b[0;34m\u001b[0m\u001b[0m\n\u001b[0;32m----> 3\u001b[0;31m     \u001b[0mvx\u001b[0m\u001b[0;34m[\u001b[0m\u001b[0mi\u001b[0m\u001b[0;34m]\u001b[0m \u001b[0;34m=\u001b[0m \u001b[0;36m2.0\u001b[0m\u001b[0;34m*\u001b[0m\u001b[0mnp\u001b[0m\u001b[0;34m.\u001b[0m\u001b[0mrandom\u001b[0m\u001b[0;34m.\u001b[0m\u001b[0mrandom\u001b[0m\u001b[0;34m(\u001b[0m\u001b[0;34m)\u001b[0m \u001b[0;34m-\u001b[0m \u001b[0;36m1.0\u001b[0m\u001b[0;34m\u001b[0m\u001b[0;34m\u001b[0m\u001b[0m\n\u001b[0m\u001b[1;32m      4\u001b[0m     \u001b[0mvy\u001b[0m\u001b[0;34m[\u001b[0m\u001b[0mi\u001b[0m\u001b[0;34m]\u001b[0m \u001b[0;34m=\u001b[0m \u001b[0;36m2.0\u001b[0m\u001b[0;34m*\u001b[0m\u001b[0mnp\u001b[0m\u001b[0;34m.\u001b[0m\u001b[0mrandom\u001b[0m\u001b[0;34m.\u001b[0m\u001b[0mrandom\u001b[0m\u001b[0;34m(\u001b[0m\u001b[0;34m)\u001b[0m \u001b[0;34m-\u001b[0m \u001b[0;36m1.0\u001b[0m\u001b[0;34m\u001b[0m\u001b[0;34m\u001b[0m\u001b[0m\n",
      "\u001b[0;31mIndexError\u001b[0m: list assignment index out of range"
     ]
    }
   ],
   "source": [
    "for i in range(N):\n",
    "    \n",
    "    vx[i] = 2.0*np.random.random() - 1.0\n",
    "    vy[i] = 2.0*np.random.random() - 1.0"
   ]
  },
  {
   "cell_type": "markdown",
   "metadata": {},
   "source": [
    "## Boundary Conditions\n",
    "\n",
    "If our $N$ particles are in infinite space, then after some number of collisions, the particles will fly apart to infinity.\n",
    "\n",
    "To prevent this from happening, we need to impose boundary conditions.\n",
    "\n",
    "For example, if we allow the particles to take on positions within a box $(L_x, L_y)$ or $(L_x, L_y, L_z)$, then in addition to the list of collision times $\\{\\Delta t_{ij}\\}$ between particles we also need to keep a list of collision times $\\{\\Delta t_{iw}\\}$ between particles and the walls of the box. If the boundary conditions are designed to keep particles within the box, they are called <em>fixed boundary conditions</em>.\n",
    "\n",
    "In this case, to decide what the next event is we need to determine the minimum $\\Delta t_{ij}$, and also the minimum $\\Delta t_{iw}$. If $\\Delta t_{ij} < \\Delta t_{iw}$, the next event is a collision between particles. Else if $\\Delta t_{ij} > \\Delta t_{iw}$, the next event is a collision between a particle and the wall of the system.\n",
    "\n",
    "However, even with the top-of-the-line computing resources, the largest hard-disk or hard-sphere MD simulation we can do contains 10-100 billion particles. In other words, $10^{10}$-$10^{11}$ particles. This is very small compared to $10^{23}$ particles we expect to find in a thermodynamic system.\n",
    "\n",
    "<img src=\"http://www1.spms.ntu.edu.sg/~cheongsa/PBC.png\" width=400>\n",
    "\n",
    "However, if we allow a particle crossing a boundary to reappear on the opposite boundary, like that shown above, we are dealing with a <em>periodic boundary conditions</em>. Periodic boundary conditions are frequently employed to mimic infinite systems (or large thermodynamic systems).\n",
    "\n",
    "[Python code]"
   ]
  },
  {
   "cell_type": "code",
   "execution_count": 3,
   "metadata": {},
   "outputs": [],
   "source": [
    "def PBC(x, y, Lx=1.0, Ly=1.0):\n",
    "    N = len(x)\n",
    "    for i in range(N):\n",
    "        if x[i] < 0.0:\n",
    "            x[i] = x[i] + Lx\n",
    "        if x[i] > Lx:\n",
    "            x[i] = x[i] - Lx\n",
    "        if y[i] < 0.0:\n",
    "            y[i] = y[i] + Ly\n",
    "        if y[i] > Ly:\n",
    "            y[i] = y[i] - Ly\n",
    "            "
   ]
  },
  {
   "cell_type": "markdown",
   "metadata": {},
   "source": [
    "## Updates\n",
    "\n",
    "For hard disks or hard spheres, it is silly to update the positions and velocities one time step $\\Delta t = h$ at a time, because the velocities change only during collisions, and the particles move along straight lines until then.\n",
    "\n",
    "Therefore, we compute the times $t_{ij}$ at which the collisions will take place between particle $i$ and particle $j$.\n",
    "\n",
    "Suppose at time $t$, the two particles are as shown below.\n",
    "\n",
    "<img src=\"http://www1.spms.ntu.edu.sg/~cheongsa/time%20to%20collision.png\" width=300>\n",
    "\n",
    "After a time interval $\\Delta t$, we will have\n",
    "\\begin{align}\n",
    "\\vec{r}_i(t + \\Delta t) &= \\vec{r}_i(t) + \\vec{v}_i \\Delta t, \\\\\n",
    "\\vec{r}_j(t + \\Delta t) &= \\vec{r}_j(t) + \\vec{v}_j \\Delta t.\n",
    "\\end{align}\n",
    "\n",
    "To solve for when the two particles collide, we set\n",
    "\\begin{equation}\n",
    "|\\vec{r}_i(t + \\Delta t) - \\vec{r}_j(t + \\Delta t)| = 2b,\n",
    "\\end{equation}\n",
    "or equivalently,\n",
    "\\begin{equation}\n",
    "|\\vec{r}_i(t + \\Delta t) - \\vec{r}_j(t + \\Delta t)|^2 = 4b^2.\n",
    "\\end{equation}\n",
    "\n",
    "The latter is a quadratic equation in $\\Delta t$, \n",
    "\\begin{equation}\n",
    "[(v_{xi} - v_{xj})^2 + (v_{yi} - v_{yj})^2] \\Delta t^2 + 2[ (x_i - x_j)(v_{xi} - v_{xj}) + (y_i - y_j)(v_{yi} - v_{yj})]\\Delta t + (x_i - x_j)^2 + (y_i - y_j)^2 - 4b^2 = 0,\n",
    "\\end{equation}\n",
    "which we can solve to get two answers, $\\Delta t_-$ and $\\Delta t_+$.\n",
    "\n",
    "But why are there two answers?\n",
    "\n",
    "Let me illustrate by making the second particle stationary.\n",
    "\n",
    "<img src=\"http://www1.spms.ntu.edu.sg/~cheongsa/two%20solutions.png\" width=400>\n",
    "\n",
    "Therefore, if $\\Delta t_- > 0$, we see that $t + \\Delta t_-$ is the time that particle $i$ collides with particle $j$, and $t + \\Delta t_+$ is the time that particle $i$ would just be in contact with particle $j$, if it had 'passed through' particle $j$ without collision at $t + \\Delta t_-$.\n",
    "\n",
    "This tells us that we should take $\\Delta t_-$ as the time to the collision, and set $\\Delta t_{ij} = \\Delta t_-$.\n",
    "\n",
    "Sometimes when we solve the quadratic equation, we find that $\\Delta t_-$ and $\\Delta t_+$ are both negative. This tells us that there is no collision in the future (because the 'collision' is in the past). We should therefore set $\\Delta t_{ij} = \\infty$.\n",
    "\n",
    "We should not be able to find $\\Delta t_- < 0$ and $\\Delta t_+ > 0$, because this only happens when the particles are overlapping. We must have eliminated this problem before starting the simulation.\n",
    "\n",
    "[Python code]"
   ]
  },
  {
   "cell_type": "code",
   "execution_count": 2,
   "metadata": {},
   "outputs": [
    {
     "ename": "NameError",
     "evalue": "name 'vx' is not defined",
     "output_type": "error",
     "traceback": [
      "\u001b[0;31m---------------------------------------------------------------------------\u001b[0m",
      "\u001b[0;31mNameError\u001b[0m                                 Traceback (most recent call last)",
      "\u001b[0;32m<ipython-input-2-338e64e1fa2b>\u001b[0m in \u001b[0;36m<module>\u001b[0;34m\u001b[0m\n\u001b[1;32m      2\u001b[0m \u001b[0;31m# vx[i], vy[i], vx[j], vy[j] known\u001b[0m\u001b[0;34m\u001b[0m\u001b[0;34m\u001b[0m\u001b[0;34m\u001b[0m\u001b[0m\n\u001b[1;32m      3\u001b[0m \u001b[0;31m# radius of hard disk = b known\u001b[0m\u001b[0;34m\u001b[0m\u001b[0;34m\u001b[0m\u001b[0;34m\u001b[0m\u001b[0m\n\u001b[0;32m----> 4\u001b[0;31m \u001b[0mA\u001b[0m \u001b[0;34m=\u001b[0m \u001b[0;34m(\u001b[0m\u001b[0mvx\u001b[0m\u001b[0;34m[\u001b[0m\u001b[0mi\u001b[0m\u001b[0;34m]\u001b[0m \u001b[0;34m-\u001b[0m \u001b[0mvx\u001b[0m\u001b[0;34m[\u001b[0m\u001b[0mj\u001b[0m\u001b[0;34m]\u001b[0m\u001b[0;34m)\u001b[0m\u001b[0;34m**\u001b[0m\u001b[0;36m2\u001b[0m \u001b[0;34m+\u001b[0m \u001b[0;34m(\u001b[0m\u001b[0mvy\u001b[0m\u001b[0;34m[\u001b[0m\u001b[0mi\u001b[0m\u001b[0;34m]\u001b[0m \u001b[0;34m-\u001b[0m \u001b[0mvy\u001b[0m\u001b[0;34m[\u001b[0m\u001b[0mj\u001b[0m\u001b[0;34m]\u001b[0m\u001b[0;34m)\u001b[0m\u001b[0;34m**\u001b[0m\u001b[0;36m2\u001b[0m\u001b[0;34m\u001b[0m\u001b[0;34m\u001b[0m\u001b[0m\n\u001b[0m\u001b[1;32m      5\u001b[0m \u001b[0mB\u001b[0m \u001b[0;34m=\u001b[0m \u001b[0;36m2.0\u001b[0m\u001b[0;34m*\u001b[0m\u001b[0;34m(\u001b[0m\u001b[0;34m(\u001b[0m\u001b[0mx\u001b[0m\u001b[0;34m[\u001b[0m\u001b[0mi\u001b[0m\u001b[0;34m]\u001b[0m \u001b[0;34m-\u001b[0m \u001b[0mx\u001b[0m\u001b[0;34m[\u001b[0m\u001b[0mj\u001b[0m\u001b[0;34m]\u001b[0m\u001b[0;34m)\u001b[0m\u001b[0;34m*\u001b[0m\u001b[0;34m(\u001b[0m\u001b[0mvx\u001b[0m\u001b[0;34m[\u001b[0m\u001b[0mi\u001b[0m\u001b[0;34m]\u001b[0m \u001b[0;34m-\u001b[0m \u001b[0mvx\u001b[0m\u001b[0;34m[\u001b[0m\u001b[0mj\u001b[0m\u001b[0;34m]\u001b[0m\u001b[0;34m)\u001b[0m\u001b[0;34m+\u001b[0m\u001b[0;34m(\u001b[0m\u001b[0my\u001b[0m\u001b[0;34m[\u001b[0m\u001b[0mi\u001b[0m\u001b[0;34m]\u001b[0m \u001b[0;34m-\u001b[0m \u001b[0my\u001b[0m\u001b[0;34m[\u001b[0m\u001b[0mj\u001b[0m\u001b[0;34m]\u001b[0m\u001b[0;34m)\u001b[0m\u001b[0;34m*\u001b[0m\u001b[0;34m(\u001b[0m\u001b[0mvy\u001b[0m\u001b[0;34m[\u001b[0m\u001b[0mi\u001b[0m\u001b[0;34m]\u001b[0m \u001b[0;34m-\u001b[0m \u001b[0mvy\u001b[0m\u001b[0;34m[\u001b[0m\u001b[0mj\u001b[0m\u001b[0;34m]\u001b[0m\u001b[0;34m)\u001b[0m\u001b[0;34m)\u001b[0m\u001b[0;34m\u001b[0m\u001b[0;34m\u001b[0m\u001b[0m\n\u001b[1;32m      6\u001b[0m \u001b[0mC\u001b[0m \u001b[0;34m=\u001b[0m \u001b[0;34m(\u001b[0m\u001b[0mx\u001b[0m\u001b[0;34m[\u001b[0m\u001b[0mi\u001b[0m\u001b[0;34m]\u001b[0m \u001b[0;34m-\u001b[0m \u001b[0mx\u001b[0m\u001b[0;34m[\u001b[0m\u001b[0mj\u001b[0m\u001b[0;34m]\u001b[0m\u001b[0;34m)\u001b[0m\u001b[0;34m**\u001b[0m\u001b[0;36m2\u001b[0m \u001b[0;34m+\u001b[0m \u001b[0;34m(\u001b[0m\u001b[0my\u001b[0m\u001b[0;34m[\u001b[0m\u001b[0mi\u001b[0m\u001b[0;34m]\u001b[0m \u001b[0;34m-\u001b[0m \u001b[0my\u001b[0m\u001b[0;34m[\u001b[0m\u001b[0mj\u001b[0m\u001b[0;34m]\u001b[0m\u001b[0;34m)\u001b[0m\u001b[0;34m**\u001b[0m\u001b[0;36m2\u001b[0m \u001b[0;34m-\u001b[0m \u001b[0;36m4.0\u001b[0m\u001b[0;34m*\u001b[0m\u001b[0mb\u001b[0m\u001b[0;34m*\u001b[0m\u001b[0mb\u001b[0m\u001b[0;34m\u001b[0m\u001b[0;34m\u001b[0m\u001b[0m\n",
      "\u001b[0;31mNameError\u001b[0m: name 'vx' is not defined"
     ]
    }
   ],
   "source": [
    "# x[i], y[i], x[j], y[j] known\n",
    "# vx[i], vy[i], vx[j], vy[j] known\n",
    "# radius of hard disk = b known\n",
    "A = (vx[i] - vx[j])**2 + (vy[i] - vy[j])**2\n",
    "B = 2.0*((x[i] - x[j])*(vx[i] - vx[j])+(y[i] - y[j])*(vy[i] - vy[j]))\n",
    "C = (x[i] - x[j])**2 + (y[i] - y[j])**2 - 4.0*b*b\n",
    "D = B*B - 4.0*A*C\n",
    "if D <= 0.0:\n",
    "    dtminus = T\n",
    "else:\n",
    "    dtminus = (- B - np.sqrt(D))/(2.0*A)\n"
   ]
  },
  {
   "cell_type": "markdown",
   "metadata": {},
   "source": [
    "After this calculation, we have a list of collision times $\\{\\Delta t_{ij} > 0\\}$. How do we proceed?\n",
    "\n",
    "At the beginning of the simulation, we have $t = 0$.\n",
    "\n",
    "From the list of collision times, we find the minimum collision time\n",
    "\\begin{equation}\n",
    "\\Delta t_1 = \\min_{i,j} \\Delta t_{ij}.\n",
    "\\end{equation}\n",
    "\n",
    "This is the time to the first collision in the simulation. Suppose it involves particles $i_1$ and $j_1$.\n",
    "\n",
    "We therefore advance the simulation time to this first collision, by setting $t \\to t + \\Delta t_1$.\n",
    "\n",
    "We also subtract $\\Delta t_1$ from the rest of the collision times, $\\Delta t_{ij} \\to \\Delta t_{ij} - \\Delta t_1$.\n",
    "\n",
    "Next, we update the velocities of particles $i_1$ and $j_1$.\n",
    "\n",
    "First, we need to determine the unit vector\n",
    "\\begin{equation}\n",
    "\\hat{n}_{i_1j_1} = \\frac{\\vec{r}_{i_1}(t + \\Delta t_1) - \\vec{r}_{j_1}(t + \\Delta t_1)}{\\left|\\vec{r}_{i_1}(t + \\Delta t_1) - \\vec{r}_{j_1}(t + \\Delta t_1)\\right|}\n",
    "\\end{equation}\n",
    "that points from particle $j_1$ to particle $i_1$.\n",
    "\n",
    "Second, we need to compute the perpendicular and parallel components\n",
    "\\begin{align}\n",
    "\\vec{v}_{i_1\\parallel, \\text{before}} &= \\left(\\vec{v}_{i_1} \\cdot \\hat{n}_{i_1j_1}\\right) \\hat{n}_{i_1j_1}, \\\\\n",
    "\\vec{v}_{j_1\\parallel, \\text{before}} &= \\left(\\vec{v}_{j_1} \\cdot \\hat{n}_{i_1j_1}\\right) \\hat{n}_{i_1j_1}, \\\\\n",
    "\\vec{v}_{i_1\\perp, \\text{before}} &= \\vec{v}_{i_1} - \\vec{v}_{i_1\\parallel,\\text{before}}, \\\\\n",
    "\\vec{v}_{j_1\\perp,\\text{before}} &= \\vec{v}_{j_1} - \\vec{v}_{j_1\\parallel,\\text{before}}.\n",
    "\\end{align}\n",
    "\n",
    "Finally, we update the velocities of particles $i_1$ and $j_1$ to be\n",
    "\\begin{align}\n",
    "\\vec{v}_{i_1,\\text{after}} &= \\vec{v}_{i_1\\perp, \\text{before}} + \\vec{v}_{j_1\\parallel, \\text{before}}, \\\\\n",
    "\\vec{v}_{j_1,\\text{after}} &= \\vec{v}_{j_1\\perp,\\text{before}} + \\vec{v}_{i_1\\parallel, \\text{before}}.\n",
    "\\end{align}\n",
    "\n",
    "[Python code]"
   ]
  },
  {
   "cell_type": "markdown",
   "metadata": {},
   "source": [
    "After this first collision, two velocities have changed, so we cannot simply look into $\\{\\Delta t_{ij}\\}$ for the next smallest time to collision $\\Delta t_2$.\n",
    "\n",
    "Instead, we must update the list of collision times!\n",
    "\n",
    "Even so, there is no need to go through all $(i, j)$ again, because only the velocities of $i_1$ and $j_1$ changed. Therefore, we only update $\\Delta t_{ij}$ if $i = i_1, j_1$ or $j = i_1, j_1$.\n",
    "\n",
    "Once this is done, we can choose the next minimum collision time $\\Delta t_2$, and note the particles $i_2$ and $j_2$ involved.\n",
    "\n",
    "[Python code]"
   ]
  },
  {
   "cell_type": "markdown",
   "metadata": {},
   "source": []
  },
  {
   "cell_type": "markdown",
   "metadata": {},
   "source": [
    "## Measurements\n",
    "\n",
    "In MD, we perform microscopic simulations so that we can carry out macroscopic measurements.\n",
    "\n",
    "For example, one of the macroscopic quantity that is commonly measured in MD simulations is the total energy\n",
    "\\begin{equation}\n",
    "E = \\sum_{i=1}^N \\tfrac{1}{2} m v_i^2 + \\tfrac{1}{2} \\sum_{i=1}^N \\sum_{j \\neq i}^N u(\\vec{r}_i, \\vec{r}_j).\n",
    "\\end{equation}\n",
    "\n",
    "In our events-driven MD simulation of hard disks or hard spheres, $E$ does not change, so no need to measure.\n",
    "\n",
    "We can also determine the equation of state for the system, and in order to do so we must measure the pressure $p$, the volume $V$, and the temperature $T$.\n",
    "\n",
    "In our MD simulations, the volume $V$ is up to us to determine. To measure $p$, we can change the volume of our simulation system slightly, or measure the rate of momentum change over an imaginary surface. Similarly, to measure the temperature $T$, we need to change the total energy of the system slightly.\n",
    "\n",
    "We can also measure mechanical properties like Young's modulus $Y$, or the Poisson ratio $\\nu$. However, to perform such measurements we must run simulations with different boundary conditions to determine strains and stresses.\n",
    "\n",
    "Perhaps the easiest quantity to measure in MD simulations of hard disks or hard spheres is the <em>pair correlation function</em> $g(\\vec{r})$, which is the probability of finding a second particle at $\\vec{r}$ given a particle at $\\vec{0}$. The Fourier transform $\\tilde{g}(\\vec{k})$ of this quantity can be measured experimentally using X-ray diffraction.\n",
    "\n",
    "Another easy quantity to measure in such MD simulations is the velocity-velocity correlation function."
   ]
  },
  {
   "cell_type": "markdown",
   "metadata": {},
   "source": [
    "## Timestep-Driven MD\n",
    "\n",
    "The first timestep-driven MD simulated the Lennard-Jones potential\n",
    "\\begin{equation}\n",
    "u(r_{ij}) = 4\\epsilon \\left[\\left(\\frac{\\sigma}{r_{ij}}\\right)^{12} - \\left(\\frac{\\sigma}{r_{ij}}\\right)^6\\right],\n",
    "\\end{equation}\n",
    "which model noble gasses with only van der Waals interaction, i.e. instantaneous dipoles attracting/repelling instantaneous dipoles. This work was done by Aneesur Rahman on a CDC 3600 mainframe computer in 1964.\n",
    "\n",
    "<table>\n",
    "<tr valign=\"bottom\">\n",
    "<td>\n",
    "<img src=\"https://hcurocks.files.wordpress.com/2013/08/download.jpg\" width=200></td>\n",
    "<td>\n",
    "<img src=\"https://upload.wikimedia.org/wikipedia/commons/thumb/1/1b/CDC_3800_-_Udvar-Hazy_Center.JPG/250px-CDC_3800_-_Udvar-Hazy_Center.JPG\" width=300>\n",
    "</td></tr>\n",
    "<tr><td>Aneesur Rahman</td><td>CDC 3600 Computer</td></tr>\n",
    "</table>"
   ]
  },
  {
   "cell_type": "markdown",
   "metadata": {
    "collapsed": true
   },
   "source": [
    "The Lennard-Jones potential consists of a repulsive core, and an attractive tail, as shown below.\n",
    "\n",
    "<img src=\"https://d3i71xaburhd42.cloudfront.net/9d4274eb39d91a8d13119cceccd52e34b6d6c5e0/2-Figure1-1.png\" width=400>\n",
    "\n",
    "This is also a semi-empirical potential."
   ]
  },
  {
   "cell_type": "markdown",
   "metadata": {},
   "source": [
    "## Force on Particle from Potential\n",
    "\n",
    "Suppose a particle with position $x$ moves in a potential $U(x)$. The force $F$ it experiences will be\n",
    "\\begin{equation}\n",
    "F = -\\frac{dU}{dx}.\n",
    "\\end{equation}\n",
    "This is so that, if the potential increases from $x = 0$ to $x > 0$, the slope $dU/dx > 0$ but the particle must expend kinetic energy to gain potential energy. Thus the force must be acting opposite to the direction of increasing $x$.\n",
    "\n",
    "More generally, if the particle moves in an $N$-dimensional space, so that its position is $\\vec{x} = (x_1, x_2, \\dots, x_N)$ and the potential it experiences is $U(x_1, x_2, \\dots, x_N)$, the force $\\vec{F}$ that the particle experiences would be a $N$-dimensional vector. We can write the force vector in terms of the potential function as\n",
    "\\begin{equation}\n",
    "\\vec{F} = -\\nabla U(x_1, x_2, \\dots, x_N),\n",
    "\\end{equation}\n",
    "and its component in the $k$th dimension would be\n",
    "\\begin{equation}\n",
    "F_k = -\\frac{\\partial U(x_1, x_2, \\dots, x_N)}{\\partial x_k}.\n",
    "\\end{equation}"
   ]
  },
  {
   "cell_type": "markdown",
   "metadata": {},
   "source": [
    "## Force on Particle $i$ Due to Particle $j$\n",
    "\n",
    "Next, suppose there are $N$ particles moving in the presence of each other. If there is no external potential, the potential due to interactions is given by\n",
    "\\begin{equation}\n",
    "U(x_1, x_2, \\dots, x_N) = \\frac{1}{2}\\sum_i^N\\sum_{j\\neq i}^N u_{ij}(x_i, x_j).\n",
    "\\end{equation}\n",
    "\n",
    "In a typical physics problem, the $N$ particles are identical. They have the same mass, and interact with each other through the same pair potential $u_{ij}(x_i, x_j) = u(x_i, x_j)$.\n",
    "\n",
    "From our discussion above, we know that the force $F_k$ acting on the $k$th particle is\n",
    "\\begin{equation}\n",
    "F_k = -\\frac{\\partial U(x_1, \\dots, x_N)}{\\partial x_k}.\n",
    "\\end{equation}\n",
    "Bringing the partial derivative inside the sums, we then find that\n",
    "\\begin{equation}\n",
    "F_k = -\\frac{1}{2}\\sum_i^N\\sum_{j\\neq i}^N \\frac{\\partial u(x_i, x_j)}{\\partial x_k} = -\\frac{1}{2}\\sum_i^N\\sum_{j\\neq i}^N \\left[\n",
    "\\frac{\\partial u}{\\partial x_i}\\frac{\\partial x_i}{\\partial x_k} + \\frac{\\partial u}{\\partial x_j}\\frac{\\partial x_j}{\\partial x_k}\\right],\n",
    "\\end{equation}\n",
    "making use of the chain rule of partial differentiation.\n",
    "\n",
    "Now, the partial derivative $\\partial x_i/\\partial x_k$ is zero if $i \\neq k$, because the coordinates of different particles are independent, and is one if $i = k$. Therefore, we can write it as a Kronecker delta\n",
    "\\begin{equation}\n",
    "\\frac{\\partial x_i}{\\partial x_k} = \\delta_{ik} = \\begin{cases} 1, & i = k; \\\\ 0, & i \\neq k. \\end{cases}\n",
    "\\end{equation}\n",
    "The same is true for $\\partial x_j/\\partial x_k$, i.e.\n",
    "\\begin{equation}\n",
    "\\frac{\\partial x_j}{\\partial x_k} = \\delta_{jk} = \\begin{cases} 1, & j = k; \\\\ 0, & j \\neq k. \\end{cases}\n",
    "\\end{equation}\n",
    "\n",
    "Putting these into the expression for $F_k$, we have\n",
    "\\begin{equation}\n",
    "\\begin{aligned}\n",
    "F_k &= -\\frac{1}{2}\\sum_i^N\\sum_{j\\neq i}^N \\left[\n",
    "\\frac{\\partial u(x_i, x_j)}{\\partial x_i}\\delta_{ik} + \\frac{\\partial u(x_i, x_j)}{\\partial x_j}\\delta_{jk}\\right] \\\\\n",
    "&= -\\frac{1}{2}\\sum_{j\\neq k}^N \\frac{\\partial u(x_k, x_j)}{\\partial x_k} -\\frac{1}{2}\\sum_{i\\neq k}^N \\frac{\\partial u(x_i, x_k)}{\\partial x_k}.\n",
    "\\end{aligned}\n",
    "\\end{equation}\n",
    "\n",
    "In general, the pair potential $u(x_i, x_k) = u(x_k, x_i)$ depends only on the separation $r_{ik} = |x_i - x_k|$ between the two particles, and not on which particle we call $i$ and which other particle we call $k$. Therefore, $\\partial u(x_k, x_j)/\\partial x_k = \\partial u(x_j, x_k)/\\partial x_k$. Also, since $i$ and $j$ are summed over, they are dummy variables, and we can always rename $j$ as $i$, to get\n",
    "\\begin{equation}\n",
    "F_k = -\\sum_{i \\neq k}^N \\frac{\\partial u(x_k, x_i)}{\\partial x_k} = \\sum_{i \\neq k} f_{ki}.\n",
    "\\end{equation}\n",
    "In the above equation,\n",
    "\\begin{equation}\n",
    "f_{ki} = -\\frac{\\partial u(x_k, x_i)}{\\partial x_k}\n",
    "\\end{equation}\n",
    "is the force acting on particle $k$ due to particle $i$.\n",
    "\n",
    "For two particles $i$ and $j$ interacting via the Lennard-Jones potential in three dimensions, the force $\\vec{f}_{ij}$ acting on particle $i$ due to particle $j$ can then be written as\n",
    "\\begin{equation}\n",
    "\\vec{f}_{ij} = \\begin{pmatrix}\n",
    "-\\dfrac{\\partial u(\\vec{r}_i, \\vec{r}_j)}{\\partial x_i}, & -\\dfrac{\\partial u(\\vec{r}_i, \\vec{r}_j)}{\\partial y_i}, & -\\dfrac{\\partial u(\\vec{r}_i, \\vec{r}_j)}{\\partial z_i}\n",
    "\\end{pmatrix}.\n",
    "\\end{equation}\n",
    "Since $u(\\vec{r}_i, \\vec{r}_j) = u(r_{ij})$ is a function only of the separation\n",
    "\\begin{equation}\n",
    "r_{ij} = \\left[(x_i - x_j)^2 + (y_i - y_j)^2 + (z_i - z_j)^2\\right]^{1/2},\n",
    "\\end{equation}\n",
    "we can also write\n",
    "\\begin{equation}\n",
    "\\frac{\\partial u(r_{ij})}{\\partial x_i} = \\frac{d u(r_{ij})}{d r_{ij}} \\frac{\\partial r_{ij}}{\\partial x_i} = \\frac{d u(r_{ij})}{d r_{ij}}\n",
    "\\frac{x_i - x_j}{r_{ij}}.\n",
    "\\end{equation}\n",
    "Similarly,\n",
    "\\begin{align}\n",
    "\\frac{\\partial u(r_{ij})}{\\partial y_i} &= \\frac{d u(r_{ij})}{d r_{ij}} \\frac{\\partial r_{ij}}{\\partial y_i} = \\frac{d u(r_{ij})}{d r_{ij}}\n",
    "\\frac{y_i - y_j}{r_{ij}}, \\\\\n",
    "\\frac{\\partial u(r_{ij})}{\\partial z_i} &= \\frac{d u(r_{ij})}{d r_{ij}} \\frac{\\partial r_{ij}}{\\partial z_i} = \\frac{d u(r_{ij})}{d r_{ij}}\n",
    "\\frac{z_i - z_j}{r_{ij}}.\n",
    "\\end{align}\n",
    "Putting them all together, we obtain\n",
    "\\begin{equation}\n",
    "\\vec{f}_{ij} = -\\frac{d u(r_{ij})}{d r_{ij}}\n",
    "\\frac{\\vec{r}_i - \\vec{r}_j}{r_{ij}}.\n",
    "\\end{equation}"
   ]
  },
  {
   "cell_type": "markdown",
   "metadata": {},
   "source": [
    "## Explicit Form of $\\vec{f}_{ij}$\n",
    "\n",
    "Given\n",
    "\\begin{equation}\n",
    "u(r_{ij}) = 4\\epsilon\\left[\\left(\\frac{\\sigma}{r_{ij}}\\right)^{12} - \\left(\\frac{\\sigma}{r_{ij}}\\right)^6\\right],\n",
    "\\end{equation}\n",
    "we find that\n",
    "\\begin{equation}\n",
    "\\frac{du}{dr_{ij}} = 4\\epsilon\\left[-12\\frac{\\sigma^{12}}{r_{ij}^{13}} + 6\\frac{\\sigma^6}{r_{ij}^7}\\right],\n",
    "\\end{equation}\n",
    "and hence\n",
    "\\begin{equation}\n",
    "\\vec{f}_{ij} = \\frac{48\\epsilon}{r_{ij}^2}\n",
    "\\left[ \\left(\\frac{\\sigma}{r_{ij}}\\right)^{12} - \\frac{1}{2}\\left(\\frac{\\sigma}{r_{ij}}\\right)^6\\right] (\\vec{r}_i - \\vec{r}_j).\n",
    "\\end{equation}\n",
    "Since $\\vec{f}_{ji} = -\\vec{f}_{ij}$, we need compute only for distinct pairs.\n",
    "\n",
    "The (non-executable) Python code for doing so is shown below:"
   ]
  },
  {
   "cell_type": "code",
   "execution_count": null,
   "metadata": {
    "collapsed": true
   },
   "outputs": [],
   "source": [
    "for i in range(N-1):\n",
    "    for j in range(i+1, N):\n",
    "        Rij = R[i,:] - R[j,:]\n",
    "        rij2 = np.linalg.norm(Rij)**2\n",
    "        sij2 = sigma*sigma/rij2\n",
    "        sij6 = sij2*sij2*sij2\n",
    "        sij12 = sij6*sij6\n",
    "        fij = 48*(epsilon/rij2)*(sij12 - 0.5*sij6)*Rij\n",
    "        F[i,:] = F[i,:] + fij\n",
    "        F[j,:] = F[j,:] - fij"
   ]
  },
  {
   "cell_type": "markdown",
   "metadata": {},
   "source": [
    "## Memory Allocation\n",
    "\n",
    "As we can see, the above Python code for computing the forces requires us to use the numpy arrays\n",
    "<ul>\n",
    "<li>R = np.zeros((N, 3))\n",
    "<li>V = np.zeros((N, 3))\n",
    "<li>F = np.zeros((N, 3))\n",
    "</ul>\n",
    "to allocate the memory space for the positions, velocities, and forces on the $N$ particles."
   ]
  },
  {
   "cell_type": "markdown",
   "metadata": {},
   "source": [
    "## Initialization\n",
    "\n",
    "Unlike for the hard disk or hard sphere simulations, we do not need to be very carefyl about the initialization.\n",
    "\n",
    "If we are simulating $N$ particles in a unit cube, then we can use"
   ]
  },
  {
   "cell_type": "code",
   "execution_count": null,
   "metadata": {
    "collapsed": true
   },
   "outputs": [],
   "source": [
    "R = np.random.random((N,3))"
   ]
  },
  {
   "cell_type": "markdown",
   "metadata": {},
   "source": [
    "Similarly, we can randomly assign positive and negative velocities as follows:"
   ]
  },
  {
   "cell_type": "code",
   "execution_count": null,
   "metadata": {
    "collapsed": true
   },
   "outputs": [],
   "source": [
    "V = 2.0*np.random.random((N,3)) - 1.0"
   ]
  },
  {
   "cell_type": "markdown",
   "metadata": {},
   "source": [
    "Because of the way the forces are computed, $n$-body interactions are guaranteed, and the simulation should eventually achieve thermodynamic equilibrium.\n",
    "\n",
    "This reassurance notwithstanding, it is perhaps a good time to talk about how to sample equilibrium velocity distributions for our timestep-driven simulation.\n",
    "\n",
    "To do so, we need to first write down the <em>Maxwell velocity distribution</em>\n",
    "\\begin{equation}\n",
    "f(\\vec{v}) = \\left(\\frac{m}{2\\pi kT}\\right)^{3/2} \\exp\\left(-\\frac{mv^2}{2kT}\\right) = f(v_x) f(v_y) f(v_z),\n",
    "\\end{equation}\n",
    "where\n",
    "\\begin{equation}\n",
    "f(v_x) \\sim \\exp\\left(-\\frac{mv_x^2}{2kT}\\right).\n",
    "\\end{equation}\n",
    "This tells us that we can sample $v_x$ from a normal distribution with mean $\\mu_x = 0$ and variance $\\sigma_x^2 = kT/m$. Similarly, we can sample $v_y$ and $v_z$ from normal distributions with $\\mu = 0$ and $\\sigma^2 = kT/m$."
   ]
  },
  {
   "cell_type": "code",
   "execution_count": null,
   "metadata": {
    "collapsed": true
   },
   "outputs": [],
   "source": [
    "V = (T/m)*np.random.randn((N,3))"
   ]
  },
  {
   "cell_type": "markdown",
   "metadata": {},
   "source": [
    "if we set units such that the Boltzmann constant is $k = 1$."
   ]
  },
  {
   "cell_type": "markdown",
   "metadata": {},
   "source": [
    "## Updates\n",
    "\n",
    "For the Lennard-Jones MD simulation, we perform the numerical integration using velocity Verlet.\n",
    "\n",
    "However, before we do so, there is an important question we need to answer: do we save all the trajectories $(x_i(t), y_i(t), z_i(t))$?\n",
    "\n",
    "For $N = 10$ particles, and say $1,000$ time steps, this poses no problem.\n",
    "\n",
    "However, if we do MD simulation of protein folding where water molecules are simulated explicitly, then we are easily talking about $10^6$ to $10^9$ coordinates over $10^6$ to $10^9$ time steps.\n",
    "\n",
    "If we store them all, we will need memory space for $10^{12}$ to $10^{18}$ doubles. Each double uses 64 bits $\\equiv$ 8 bytes of memory. So saving the trajectors of $10^6$ to $10^9$ coordinates over $10^6$ to $10^9$ time steps would require 1 GB of RAM/disk space to 1 PB of RAM/disk space. The former is still manageable, but the latter is not possible.\n",
    "\n",
    "If we save the trajectory every 1,000 time steps, then in the latter case we will end up with 1 TB files, which is still possible to manage. Alternatively, if we save only measurements, like the total energy $E(t)$ over $10^9$ time steps, then we would end up with files about 100 kB in size.\n",
    "\n",
    "[Python code]"
   ]
  },
  {
   "cell_type": "markdown",
   "metadata": {},
   "source": [
    "## Acceleration Schemes\n",
    "\n",
    "With modern supercomputers (i.e. clusters), we can do $10^{12}$-atom MD simulations, but the run time will be too long.\n",
    "\n",
    "In general, the long run time is because of the large number of force evaluations, $(10^{12})^2 = 10^{24}$!\n",
    "\n",
    "In such a simulation, most particles are too far apart for the Lennard-Jones potential to be important. That is to say, $|\\vec{f}_{ij}|$ would be smaller than the machine epsilon, and thus there is no need to evaluate such forces.\n",
    "\n",
    "A common way to speed up the MD simulation is to introduce the truncated Lennard-Jones potential, which we evaluate if $r_{ij} < r_c$, but skip otherwise. Unfortunately, if we only truncate the Lennard-Jones potential, we will have to go through $10^{24}$ pairs to check.\n",
    "\n",
    "Therefore, the truncated Lennard-Jones potential must be combined with breaking the simulation system into cells, such that each cell is slightly larger than $r_c \\times r_c \\times r_c$. Then,\n",
    "<ol>\n",
    "<li> for particles in the same cell, we evaluate the Lennard-Jones force;\n",
    "<li> for particles in neighboring cells, we also evaluate the Lennard-Jones force;\n",
    "<li> for particles in cells further than nearest neighbors, there is no need to evaluate the Lennard-Jones force.\n",
    "</ol>\n",
    "\n",
    "This organization of the simulation system into cells greatly reduces the number of pairs we need to perform force evaluation over, and hence the total simulation time."
   ]
  },
  {
   "cell_type": "code",
   "execution_count": null,
   "metadata": {
    "collapsed": true
   },
   "outputs": [],
   "source": []
  }
 ],
 "metadata": {
  "kernelspec": {
   "display_name": "Python 3",
   "language": "python",
   "name": "python3"
  },
  "language_info": {
   "codemirror_mode": {
    "name": "ipython",
    "version": 3
   },
   "file_extension": ".py",
   "mimetype": "text/x-python",
   "name": "python",
   "nbconvert_exporter": "python",
   "pygments_lexer": "ipython3",
   "version": "3.7.4"
  }
 },
 "nbformat": 4,
 "nbformat_minor": 2
}
