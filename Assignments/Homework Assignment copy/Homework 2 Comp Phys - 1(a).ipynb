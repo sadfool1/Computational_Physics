{
 "cells": [
  {
   "cell_type": "markdown",
   "metadata": {},
   "source": [
    "\"\"\"\n",
    "Created on Wed Mar  4 14:49:00 2020\n",
    "\n",
    "@author: jameselijah\n",
    "\"\"\""
   ]
  },
  {
   "cell_type": "markdown",
   "metadata": {},
   "source": [
    "#want to show that:\n",
    "\n",
    "\\begin{equation}\n",
    "\\dfrac{\\partial^2 c}{\\partial x^2} = \n",
    "\\\n",
    "(1-u^2)^2 \n",
    "\\dfrac{\\partial^2 c}{\\partial u^2} - 2u(1-u^2)\\dfrac{\\partial c}{\\partial u}\n",
    "\\end{equation}"
   ]
  },
  {
   "cell_type": "markdown",
   "metadata": {},
   "source": [
    "Begin by disecting the derivative using chain rule\n",
    "\n",
    "\\begin{equation}\n",
    "\\dfrac{\\partial^2 c}{\\partial x^2} = \n",
    "\\dfrac{\\partial}{\\partial t}(\\dfrac{\\partial c}{\\partial u}.\\dfrac{\\partial u}{\\partial t} .\\dfrac{\\partial t}{\\partial u}.\\dfrac{\\partial u}{\\partial x})\n",
    "\\end{equation}"
   ]
  },
  {
   "cell_type": "markdown",
   "metadata": {},
   "source": [
    "This reduces it to:\n",
    "\n",
    "\\begin{equation}\n",
    "\\dfrac{\\partial^2 c}{\\partial x^2} = \n",
    "\\dfrac{\\partial}{\\partial t}(\\dfrac{\\partial c}{\\partial u}.\\dfrac{\\partial u}{\\partial x})\n",
    "\\end{equation}"
   ]
  },
  {
   "cell_type": "markdown",
   "metadata": {},
   "source": [
    "We know that u = tanh(x)\n",
    "\n",
    "\\begin{equation}\n",
    "\\dfrac{\\partial u}{\\partial x} = \\dfrac{\\cosh^2(x) + sinh^2(x)}{\\cosh^2(x)}\n",
    "\\end{equation}\n",
    "\n",
    "\\begin{equation}\n",
    "\\dfrac{\\partial u}{\\partial x} = \\dfrac{1}{\\cosh^2(x)}\n",
    "\\end{equation}\n",
    "\n",
    "\\begin{equation}\n",
    "\\dfrac{\\partial u}{\\partial x} = {sec^2(x)}\n",
    "\\end{equation}\n",
    "\n",
    "\\begin{equation}\n",
    "\\dfrac{\\partial u}{\\partial x} = {1-tanh^2(x)}\n",
    "\\end{equation}\n",
    "\n",
    "\\begin{equation}\n",
    "\\dfrac{\\partial u}{\\partial x} = {1-u^2}\n",
    "\\end{equation}"
   ]
  },
  {
   "cell_type": "markdown",
   "metadata": {},
   "source": [
    "Now we replace this partial result into our main equation as;\n",
    "\n",
    "\\begin{equation}\n",
    "\\dfrac{\\partial^2 c}{\\partial x^2} = \n",
    "\\dfrac{\\partial}{\\partial x} (\\dfrac{\\partial c}{\\partial u} . {(1-u^2)})\n",
    "\\end{equation}"
   ]
  },
  {
   "cell_type": "markdown",
   "metadata": {},
   "source": [
    "Using Chain Rule:\n",
    "\n",
    "\\begin{equation}\n",
    "\\dfrac{\\partial^2 c}{\\partial x^2} = ({1-u^2}) \\dfrac {\\partial c}{ \\partial u \\partial x} + \\dfrac {\\partial c}{ \\partial u}\n",
    "\\dfrac{\\partial (1-u^2)}{\\partial x} ----(1)\n",
    "\\end{equation}"
   ]
  },
  {
   "cell_type": "markdown",
   "metadata": {},
   "source": [
    "We know that\n",
    "\\begin{equation}\n",
    "{\\partial x} = cosh^2(x).{\\partial u}\n",
    "\\end{equation}\n",
    "\n",
    "Then we substitute this into (1) \\begin{equation} \n",
    "\\dfrac{\\partial^2 c}{\\partial x^2} = ({1-u^2}) \\dfrac {\\partial^2 c}{ cosh^2(x).{\\partial u} .\\partial u} + \\dfrac {\\partial c}{ \\partial u}\n",
    "\\dfrac{\\partial (1-u^2)}{\\partial x} \n",
    "\\end{equation}\n",
    "\n",
    "\\begin{equation}\n",
    "\\dfrac{\\partial^2 c}{\\partial x^2} =\n",
    "(1-u^2)^2 \n",
    "\\dfrac{\\partial^2 c}{\\partial u^2} + \\dfrac {\\partial c}{ \\partial u} (\\dfrac{\\partial (1-u^2)}{\\partial x})\n",
    "\\end{equation}"
   ]
  },
  {
   "cell_type": "markdown",
   "metadata": {},
   "source": [
    "\\begin{equation}\n",
    "\\dfrac{\\partial^2 c}{\\partial x^2} = (1-u^2)^2 \n",
    "\\dfrac{\\partial^2 c}{\\partial u^2} + \\dfrac {\\partial c}{ \\partial u} \\dfrac{\\partial (1-tanh^2(x))}{\\partial x}\n",
    "\\end{equation}\n",
    "\n",
    "\\begin{equation}\n",
    "\\dfrac{\\partial^2 c}{\\partial x^2} = (1-u^2)^2 \n",
    "\\dfrac{\\partial^2 c}{\\partial u^2} + \\dfrac {\\partial c}{ \\partial u} (\n",
    "\\dfrac {\\partial tanh^2(x)}{\\partial x})\n",
    "\\end{equation}\n",
    "\n",
    "\\begin{equation}\n",
    "\\dfrac{\\partial^2 c}{\\partial x^2} = (1-u^2)^2 \n",
    "\\dfrac{\\partial^2 c}{\\partial u^2} + \\dfrac {\\partial c}{ \\partial u} ({-2tanh(x)sech^2(x)})\n",
    "\\end{equation}\n",
    "\n",
    "\\begin{equation}\n",
    "\\dfrac{\\partial^2 c}{\\partial x^2} = \n",
    "\\\n",
    "(1-u^2)^2 \n",
    "\\dfrac{\\partial^2 c}{\\partial u^2} - 2u(1-u^2)\\dfrac{\\partial c}{\\partial u} \n",
    "\\end{equation} \n",
    "\n",
    "### proven\n"
   ]
  },
  {
   "cell_type": "code",
   "execution_count": null,
   "metadata": {},
   "outputs": [],
   "source": []
  }
 ],
 "metadata": {
  "kernelspec": {
   "display_name": "Python 3",
   "language": "python",
   "name": "python3"
  },
  "language_info": {
   "codemirror_mode": {
    "name": "ipython",
    "version": 3
   },
   "file_extension": ".py",
   "mimetype": "text/x-python",
   "name": "python",
   "nbconvert_exporter": "python",
   "pygments_lexer": "ipython3",
   "version": "3.7.4"
  }
 },
 "nbformat": 4,
 "nbformat_minor": 2
}
