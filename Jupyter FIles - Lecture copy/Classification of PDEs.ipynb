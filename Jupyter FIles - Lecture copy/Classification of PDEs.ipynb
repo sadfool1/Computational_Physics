{
 "cells": [
  {
   "cell_type": "markdown",
   "metadata": {},
   "source": [
    "# Classification of PDEs\n",
    "\n",
    "## Linear vs Nonlinear\n",
    "\n",
    "There are many important PDEs in Physics. Many of them are linear, for example:\n",
    "<ul>\n",
    "<li> <em>Laplace equation</em>, $\\nabla^2\\phi = 0$;\n",
    "<li> <em>Poisson equation</em>, $\\nabla^2\\phi = -\\dfrac{\\rho(\\vec{r})}{\\epsilon_0}$;\n",
    "<li> <em>diffusion equation</em>, $\\dfrac{\\partial c}{\\partial t} = D\\nabla^2 c(\\vec{r}, t)$;\n",
    "<li> <em>Schrodinger equation</em>, $i\\hbar\\dfrac{\\partial\\Psi}{\\partial t} = -\\dfrac{\\hbar^2}{2m}\\nabla^2\\Psi + V(\\vec{r}, t)\\Psi(\\vec{r}, t)$;\n",
    "<li> <em>wave equation</em>, $\\nabla^2\\phi + \\dfrac{1}{c^2}\\dfrac{\\partial^2\\phi}{\\partial t^2} = 0$.\n",
    "</ul>\n",
    "\n",
    "The nonlinear PDEs that are important in Physics include:\n",
    "<ul>\n",
    "<li> <em>Navier-Stokes equation</em>, $\\rho\\left(\\dfrac{\\partial \\vec{u}}{\\partial t} + \\vec{u}\\cdot\\nabla\\vec{u}\\right) = -\\nabla p + \\mu \\nabla^2 \\vec{u} + \\frac{1}{2} \\mu \\nabla(\\nabla\\cdot\\vec{u}) + \\rho\\vec{g}$;\n",
    "<li> <em>nonlinear Schrodinger equation</em>, $i\\dfrac{\\partial\\psi}{\\partial t} = -\\dfrac{1}{2}\\dfrac{\\partial^2\\psi}{\\partial x^2} + k\\left|\\psi\\right|^2\\psi(x, t)$;\n",
    "<li> <em>Gross-Pitaevskii equation</em>, $-\\dfrac{\\hbar^2}{2m}\\nabla^2\\psi + V(\\vec{r})\\psi(\\vec{r}) + \\dfrac{4\\pi\\hbar^2 a_s}{m}\\left|\\psi(\\vec{r})\\right|^2 \\psi(\\vec{r}) = \\mu \\psi(\\vec{r})$.\n",
    "</ul>"
   ]
  },
  {
   "cell_type": "markdown",
   "metadata": {},
   "source": [
    "## Classification of Linear PDEs\n",
    "\n",
    "Consider the most general second-order linear PDE\n",
    "\\begin{equation}\n",
    "A(x,y)\\dfrac{\\partial^2\\phi}{\\partial x^2} + B(x,y)\\dfrac{\\partial^2\\phi}{\\partial x\\partial y} + C(x,y)\\dfrac{\\partial^2\\phi}{\\partial y^2} + D(x,y)\\dfrac{\\partial\\phi}{\\partial x} + E(x,y)\\dfrac{\\partial\\phi}{\\partial y} + F(x,y)\\phi(x,y) = 0.\n",
    "\\end{equation}\n",
    "\n",
    "The <em>class</em> of the PDE is decided by the <em>discriminant</em>\n",
    "\\begin{equation}\n",
    "\\mathcal{D} = B^2 - 4AC\n",
    "\\end{equation}\n",
    "of the PDE. If\n",
    "<ul>\n",
    "<li> $\\mathcal{D} > 0$, the PDE is <em>elliptic</em> (e.g. Laplace equation);\n",
    "<li> $\\mathcal{D} = 0$, the PDE is <em>parabolic</em> (e.g. diffusion equation);\n",
    "<li> $\\mathcal{D} < 0$, the PDE is <em>hyperbolic</em> (e.g. wave equation).\n",
    "</ul>"
   ]
  },
  {
   "cell_type": "code",
   "execution_count": null,
   "metadata": {
    "collapsed": true
   },
   "outputs": [],
   "source": []
  }
 ],
 "metadata": {
  "kernelspec": {
   "display_name": "Python 3",
   "language": "python",
   "name": "python3"
  },
  "language_info": {
   "codemirror_mode": {
    "name": "ipython",
    "version": 3
   },
   "file_extension": ".py",
   "mimetype": "text/x-python",
   "name": "python",
   "nbconvert_exporter": "python",
   "pygments_lexer": "ipython3",
   "version": "3.7.4"
  }
 },
 "nbformat": 4,
 "nbformat_minor": 2
}
