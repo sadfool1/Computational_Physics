{
 "cells": [
  {
   "cell_type": "markdown",
   "metadata": {},
   "source": [
    "# Initial Value Problems for PDEs\n",
    "\n",
    "## The Diffusion Equation\n",
    "\n",
    "The diffusion equation\n",
    "\\begin{equation}\n",
    "\\dfrac{\\partial c}{\\partial t} = D\\nabla^2 c\n",
    "\\end{equation}\n",
    "can be rewritten as\n",
    "\\begin{equation}\n",
    "\\dfrac{\\partial c}{\\partial\\tau} = \\nabla^2 c,\n",
    "\\end{equation}\n",
    "where $\\tau = Dt$ is a time-like variable rescaled by the <em>diffusion constant</em> $D$.\n",
    "\n",
    "To solve for $c(\\vec{r}, t)$ numerically, we need to first discretize both space and time. That is,\n",
    "\\begin{equation}\n",
    "\\tau = \\tau_0 + m \\Delta\\tau, \\quad m = 0, 1, \\dots, M,\n",
    "\\end{equation}\n",
    "and\n",
    "\\begin{equation}\n",
    "\\vec{r} = \\vec{r}_0 + n_1 \\vec{a}_1 + n_2 \\vec{a}_2 + n_3 \\vec{a}_3,\n",
    "\\end{equation}\n",
    "where $\\vec{a}_1 = \\Delta x\\, \\hat{x}$, $\\vec{a}_2 = \\Delta y\\, \\hat{y}$, $\\vec{a}_3 = \\Delta z\\, \\hat{z}$, and $n_1 = 0, 1, \\dots, N_1$, $n_2 = 0, 1, \\dots, N_2$, $n_3 = 0, 1, \\dots, N_3$.\n",
    "\n",
    "Next, we need to approximate the partial derivatives,\n",
    "\\begin{equation}\n",
    "\\begin{aligned}\n",
    "\\dfrac{\\partial c}{\\partial\\tau} &\\approx \\dfrac{c(\\vec{r}, \\tau + \\Delta\\tau) - c(\\vec{r}, \\tau)}{\\Delta\\tau} \\\\\n",
    "&= \\dfrac{c(n_1, n_2, n_3, m + 1) - c(n_1, n_2, n_3, m)}{\\Delta\\tau},\n",
    "\\end{aligned}\n",
    "\\end{equation}\n",
    "and\n",
    "\\begin{equation}\n",
    "\\begin{aligned}\n",
    "\\nabla^2 c &\\approx \\dfrac{\\partial^2 c}{\\partial x^2} + \\dfrac{\\partial^2 c}{\\partial y^2} + \\dfrac{\\partial^2 c}{\\partial z^2} \\\\\n",
    "&= \\dfrac{c(n_1+1, n_2, n_3, m) - 2c(n_1, n_2, n_3, m) + c(n_1 - 1, n_2, n_3, m)}{\\Delta x^2} + {} \\\\\n",
    "&\\quad\\ \\dfrac{c(n_1, n_2+1, n_3, m) - 2c(n_1, n_2, n_3, m) + c(n_1, n_2-1, n_3, m)}{\\Delta y^2} + {} \\\\\n",
    "&\\quad\\ \\dfrac{c(n_1, n_2, n_3+1, m) - 2c(n_1, n_2, n_3, m) + c(n_1, n_2, n_3-1, m)}{\\Delta z^2}.\n",
    "\\end{aligned}\n",
    "\\end{equation}\n",
    "\n",
    "Combining the two discretized partial derivatives, we have\n",
    "\\begin{equation}\n",
    "\\begin{aligned}\n",
    "c(n_1, n_2, n_3, m+1) &= c(n_1, n_2, n_3, m) + {} \\\\\n",
    "&\\quad\\ \\dfrac{\\Delta\\tau}{\\Delta x^2} \\left[c(n_1+1, n_2, n_3, m) - 2c(n_1, n_2, n_3, m) + c(n_1 - 1, n_2, n_3, m)\\right] + {} \\\\\n",
    "&\\quad\\ \\dfrac{\\Delta\\tau}{\\Delta y^2} \\left[c(n_1, n_2+1, n_3, m) - 2c(n_1, n_2, n_3, m) + c(n_1, n_2-1, n_3, m)\\right] + {} \\\\\n",
    "&\\quad\\ \\dfrac{\\Delta\\tau}{\\Delta z^2} \\left[c(n_1, n_2, n_3+1, m) - 2c(n_1, n_2, n_3, m) + c(n_1, n_2, n_3-1, m)\\right].\n",
    "\\end{aligned}\n",
    "\\end{equation}\n",
    "\n",
    "This numerical integration scheme is called <em>forward time central space</em> (FTCS). It is one of the most commonly used scheme in the <em>finite difference</em> family of methods for parabolic PDEs, even though it is not the most accurate."
   ]
  },
  {
   "cell_type": "markdown",
   "metadata": {},
   "source": [
    "## Diffusion Equation in One Space and One Time\n",
    "\n",
    "For the diffusion equation in one space and one time, the update rule would be\n",
    "\\begin{equation}\n",
    "c(n,m+1) = c(n,m) + \\dfrac{\\Delta\\tau}{\\Delta x^2} \\left[ c(n+1,m) - 2c(n,m) + c(n-1,m) \\right].\n",
    "\\end{equation}"
   ]
  },
  {
   "cell_type": "markdown",
   "metadata": {},
   "source": [
    "To solve the diffusion equation in one space and one time, we need to specify an initial condition $c(x, t=0) = f(x)$, where $f(x)$ can be any well-behaved function of $x$, i.e. does not blow up.\n",
    "\n",
    "We will also need to impose boundary conditions. For example, if we want to solve the diffusion equation within the domain $-\\dfrac{L}{2} \\leq x \\leq \\dfrac{L}{2}$, then we need to specify $c(x = \\pm\\dfrac{L}{2}, t) = g_{\\pm}(t)$ for all times."
   ]
  },
  {
   "cell_type": "markdown",
   "metadata": {},
   "source": [
    "For concreteness sake, let us say we take $L = 6$, so that we are solving the diffusion equation for $-3 \\leq x \\leq 3$. We can then impose the boundary condition $c(x = \\pm 3, t) = 0$.\n",
    "\n",
    "Physically, this means that whatever it is that is diffusing through $-3 \\leq x \\leq 3$, it disappears when it reaches $x = \\pm 3$."
   ]
  },
  {
   "cell_type": "markdown",
   "metadata": {},
   "source": [
    "We can also choose the initial condition to be\n",
    "\\begin{equation}\n",
    "c(x, t=0) = \\begin{cases}\n",
    "1, & -1 \\leq x \\leq 1; \\\\\n",
    "0, & \\text{otherwise}. \\end{cases}\n",
    "\\end{equation}\n",
    "This tells us that the diffusing substance is initially distributed uniformly between $x = -1$ and $x = 1$."
   ]
  },
  {
   "cell_type": "markdown",
   "metadata": {},
   "source": [
    "Let us now set up the Python script for this simulation.\n",
    "\n",
    "First, we need to import the relevant modules."
   ]
  },
  {
   "cell_type": "code",
   "execution_count": 4,
   "metadata": {},
   "outputs": [],
   "source": [
    "import numpy as np\n",
    "import matplotlib.pyplot as plt"
   ]
  },
  {
   "cell_type": "markdown",
   "metadata": {},
   "source": [
    "Next, we need to initialize the simulation parameters."
   ]
  },
  {
   "cell_type": "code",
   "execution_count": 5,
   "metadata": {},
   "outputs": [],
   "source": [
    "dt = 0.1\n",
    "dx = 0.5\n",
    "L = 6.0\n",
    "M = 101\n",
    "N = 25"
   ]
  },
  {
   "cell_type": "markdown",
   "metadata": {},
   "source": [
    "Following this, we allocate memory to the arrays we need in our simulation."
   ]
  },
  {
   "cell_type": "code",
   "execution_count": 6,
   "metadata": {},
   "outputs": [
    {
     "data": {
      "text/plain": [
       "(array([ 0. ,  0.1,  0.2,  0.3,  0.4,  0.5,  0.6,  0.7,  0.8,  0.9,  1. ,\n",
       "         1.1,  1.2,  1.3,  1.4,  1.5,  1.6,  1.7,  1.8,  1.9,  2. ,  2.1,\n",
       "         2.2,  2.3,  2.4,  2.5,  2.6,  2.7,  2.8,  2.9,  3. ,  3.1,  3.2,\n",
       "         3.3,  3.4,  3.5,  3.6,  3.7,  3.8,  3.9,  4. ,  4.1,  4.2,  4.3,\n",
       "         4.4,  4.5,  4.6,  4.7,  4.8,  4.9,  5. ,  5.1,  5.2,  5.3,  5.4,\n",
       "         5.5,  5.6,  5.7,  5.8,  5.9,  6. ,  6.1,  6.2,  6.3,  6.4,  6.5,\n",
       "         6.6,  6.7,  6.8,  6.9,  7. ,  7.1,  7.2,  7.3,  7.4,  7.5,  7.6,\n",
       "         7.7,  7.8,  7.9,  8. ,  8.1,  8.2,  8.3,  8.4,  8.5,  8.6,  8.7,\n",
       "         8.8,  8.9,  9. ,  9.1,  9.2,  9.3,  9.4,  9.5,  9.6,  9.7,  9.8,\n",
       "         9.9, 10. ]),\n",
       " array([-3.  , -2.75, -2.5 , -2.25, -2.  , -1.75, -1.5 , -1.25, -1.  ,\n",
       "        -0.75, -0.5 , -0.25,  0.  ,  0.25,  0.5 ,  0.75,  1.  ,  1.25,\n",
       "         1.5 ,  1.75,  2.  ,  2.25,  2.5 ,  2.75,  3.  ]))"
      ]
     },
     "execution_count": 6,
     "metadata": {},
     "output_type": "execute_result"
    }
   ],
   "source": [
    "t = np.linspace(0, 10, M)\n",
    "x = np.linspace(-L/2, L/2, N)\n",
    "c = np.zeros((M, N))\n",
    "(t, x)"
   ]
  },
  {
   "cell_type": "markdown",
   "metadata": {},
   "source": [
    "Once memory allocation is done, we must impose initial conditions $\\dots$"
   ]
  },
  {
   "cell_type": "code",
   "execution_count": 7,
   "metadata": {},
   "outputs": [
    {
     "data": {
      "image/png": "[encoded data removed]",
      "text/plain": [
       "<Figure size 432x288 with 1 Axes>"
      ]
     },
     "metadata": {
      "needs_background": "light"
     },
     "output_type": "display_data"
    }
   ],
   "source": [
    "for n in range(N):\n",
    "    if (x[n] >= -1.0)*(x[n] <= 1.0):\n",
    "        c[0,n] = 1.0\n",
    "c[0,:]\n",
    "plt.plot(x, c[0,:])\n",
    "plt.show()"
   ]
  },
  {
   "cell_type": "markdown",
   "metadata": {},
   "source": [
    "$\\dots$ followed by boundary conditions."
   ]
  },
  {
   "cell_type": "code",
   "execution_count": 8,
   "metadata": {},
   "outputs": [],
   "source": [
    "for m in range(M):\n",
    "    c[m,0] = 0.0\n",
    "    c[m,N-1] = 0.0"
   ]
  },
  {
   "cell_type": "markdown",
   "metadata": {},
   "source": [
    "In practice, because we have already initialized the array <tt>c</tt> to zero, there is no need impose the boundary condition. Nevertheless, we show it just in case the boundary condition we wish to maintain is not the trivial one."
   ]
  },
  {
   "cell_type": "markdown",
   "metadata": {},
   "source": [
    "Finally, we are ready to implement the FTCS update to solve the initial value problem for the diffusion equation.\n",
    "\n",
    "[Python code]"
   ]
  },
  {
   "cell_type": "code",
   "execution_count": 9,
   "metadata": {},
   "outputs": [],
   "source": [
    "# FTCS update from m = 1 to m = M-1\n",
    "for m in range(1, M):\n",
    "    # go through n = 1 to n = N-2, because n = 0 and n = N-1 are\n",
    "    # boundary conditions we have already fixed\n",
    "    for n in range(1,N-1):\n",
    "        c[m,n] = c[m-1,n] + (dt/(dx*dx))*(c[m-1,n+1] - 2.0*c[m-1,n] + c[m-1,n-1])\n",
    "        "
   ]
  },
  {
   "cell_type": "code",
   "execution_count": 20,
   "metadata": {},
   "outputs": [
    {
     "data": {
      "image/png": "[encoded data removed]",
      "text/plain": [
       "<matplotlib.figure.Figure at 0x117938dd8>"
      ]
     },
     "metadata": {},
     "output_type": "display_data"
    }
   ],
   "source": [
    "plt.plot(x, c[0,:], label=r'$t = 0.0$')\n",
    "plt.plot(x, c[11,:], label=r'$t = 1.0$')\n",
    "plt.plot(x, c[21,:], label=r'$t = 2.0$')\n",
    "plt.plot(x, c[51,:], label=r'$t = 5.0$')\n",
    "plt.plot(x, c[-1,:], label=r'$t = 10.0$')\n",
    "plt.legend(loc='upper right')\n",
    "plt.show()"
   ]
  },
  {
   "cell_type": "markdown",
   "metadata": {},
   "source": [
    "## The Wave Equation in One Space and One Time\n",
    "\n",
    "Another linear PDE where we would encounter initial value problems is the wave equation.\n",
    "\n",
    "For simplicity sake, let us consider the wave equation in one space and one time,\n",
    "\\begin{equation}\n",
    "\\dfrac{\\partial^2 y}{\\partial x^2} + \\dfrac{1}{v^2}\\dfrac{\\partial^2 y}{\\partial t^2} = 0.\n",
    "\\end{equation}\n",
    "\n",
    "This can represent, for example, the transverse displacement $y(x, t)$ of a string stretched along the $x$ direction, such that $v = \\sqrt{T/\\mu}$ is the speed of the wave on the string. Here $T$ is the tension in the string, and $\\mu$ is the mass per unit length of the string."
   ]
  },
  {
   "cell_type": "markdown",
   "metadata": {},
   "source": [
    "Again, to solve this wave equation numerically, we need to discretize time\n",
    "\\begin{equation}\n",
    "t = t_0 + m\\Delta t, \\quad m = 0, 1, \\dots, M,\n",
    "\\end{equation}\n",
    "and space\n",
    "\\begin{equation}\n",
    "x = x_0 + n\\Delta x, \\quad n = 0, 1, \\dots, N.\n",
    "\\end{equation}\n",
    "\n",
    "The natural approximation for $\\partial^2 y/\\partial x^2$ is again the central difference\n",
    "\\begin{equation}\n",
    "\\dfrac{\\partial^2 y}{\\partial x^2} \\approx \n",
    "\\dfrac{y(n+1, m) - 2y(n, m) + y(n-1, m)}{\\Delta x^2}.\n",
    "\\end{equation}"
   ]
  },
  {
   "cell_type": "code",
   "execution_count": 2,
   "metadata": {},
   "outputs": [],
   "source": [
    "# import modules\n",
    "import numpy as np\n",
    "import matplotlib.pyplot as plt\n",
    "# initialize simulation parameters\n",
    "dt = 0.1\n",
    "dx = 0.1\n",
    "v = 1.0\n",
    "M = 51\n",
    "N = 21\n",
    "# memory allocation\n",
    "x = np.linspace(-1.0, 1.0, N)\n",
    "t = np.linspace(0.0, 5.0, M)\n",
    "y = np.zeros((M, N))\n",
    "# initial condition for displacement\n",
    "for n in range(N):\n",
    "    if x[n] < 0.0:\n",
    "        y[0, n] = 0.5*x[n] + 0.5\n",
    "    else:\n",
    "        y[0, n] = -0.5*x[n] + 0.5\n",
    "# initial condition for velocity\n",
    "ymdt = y[0, :]\n",
    "# solve first for y[1,:]\n",
    "for n in range(1,N-1):\n",
    "    y[1,n] = ymdt[n] + (2.0*v*v*dt*dt/(dx*dx))*(y[0,n+1]-2.0*y[0,n]+y[0,n-1])\n",
    "# update for the rest\n",
    "for m in range(2,M):\n",
    "    for n in range(1,N-1):\n",
    "        y[m,n] = y[m-2,n] + (2.0*v*v*dt*dt/(dx*dx))*(y[m-1,n+1]-2.0*y[m-1,n]+y[m-1,n-1])\n"
   ]
  },
  {
   "cell_type": "code",
   "execution_count": null,
   "metadata": {
    "collapsed": true
   },
   "outputs": [],
   "source": []
  }
 ],
 "metadata": {
  "kernelspec": {
   "display_name": "Python 3",
   "language": "python",
   "name": "python3"
  },
  "language_info": {
   "codemirror_mode": {
    "name": "ipython",
    "version": 3
   },
   "file_extension": ".py",
   "mimetype": "text/x-python",
   "name": "python",
   "nbconvert_exporter": "python",
   "pygments_lexer": "ipython3",
   "version": "3.7.4"
  }
 },
 "nbformat": 4,
 "nbformat_minor": 2
}
